{
 "cells": [
  {
   "cell_type": "markdown",
   "metadata": {
    "id": "NODGFS9svLmc"
   },
   "source": [
    "# Chicago Taxi Rides in 2016\n",
    "### Kevin Wang\n",
    "\n",
    "For this project, I have been hired as a Sr. Data Scientist in Chicago and my manager has asked me to analyze a dataset of 20 million observations involving Chicago taxi trips in 2016. There are many missing values, which I will drop from the analysis.\n",
    "\n",
    "My main topic of interest is to forecast fare based on trip_seconds and trip_miles, representing time and distance of trips. I will build and evaluate the following models:\n",
    "\n",
    "1. Linear Regression with Elastic Net Regularization\n",
    "2. Decision Tree\n",
    "3. Random Forest\n",
    "4. Gradient-Boosted Tree\n",
    "\n",
    "I tune the hyperparameters for each model and compare them using RMSE and R2. Finally, I perform K-means clustering and recommend the optimal number of clusters.\n",
    "\n"
   ]
  },
  {
   "cell_type": "markdown",
   "metadata": {
    "id": "XEIXZIjwxEI_"
   },
   "source": [
    "## 1. Initialize a spark session"
   ]
  },
  {
   "cell_type": "code",
   "execution_count": null,
   "metadata": {
    "colab": {
     "base_uri": "https://localhost:8080/"
    },
    "id": "s_v0ZF83vGJ0",
    "outputId": "0ebf67cc-570b-4cb3-aacd-daa4bd003833"
   },
   "outputs": [
    {
     "name": "stdout",
     "output_type": "stream",
     "text": [
      "\u001b[2K     \u001b[90m━━━━━━━━━━━━━━━━━━━━━━━━━━━━━━━━━━━━━━━━\u001b[0m \u001b[32m316.9/316.9 MB\u001b[0m \u001b[31m2.0 MB/s\u001b[0m eta \u001b[36m0:00:00\u001b[0m\n",
      "\u001b[?25h  Preparing metadata (setup.py) ... \u001b[?25l\u001b[?25hdone\n",
      "  Building wheel for pyspark (setup.py) ... \u001b[?25l\u001b[?25hdone\n"
     ]
    }
   ],
   "source": [
    "!pip install -q findspark\n",
    "!pip install -q pyspark\n",
    "\n",
    "import findspark\n",
    "from pyspark.sql import SparkSession\n",
    "findspark.init()\n",
    "spark = SparkSession.builder.appName(\"Final_Project\").getOrCreate()"
   ]
  },
  {
   "cell_type": "markdown",
   "metadata": {
    "id": "dGlLEUjnbbPB"
   },
   "source": [
    "## 2. Upload files and drop NAs"
   ]
  },
  {
   "cell_type": "code",
   "execution_count": null,
   "metadata": {
    "colab": {
     "base_uri": "https://localhost:8080/"
    },
    "id": "4QvERGk4e-tV",
    "outputId": "07a4f17e-5461-4c79-cacb-74fe7c1ff72f"
   },
   "outputs": [
    {
     "name": "stdout",
     "output_type": "stream",
     "text": [
      "Mounted at /content/drive\n"
     ]
    }
   ],
   "source": [
    "# Mount google drive to directly access files\n",
    "from google.colab import drive\n",
    "drive.mount('/content/drive')"
   ]
  },
  {
   "cell_type": "code",
   "execution_count": null,
   "metadata": {
    "colab": {
     "base_uri": "https://localhost:8080/"
    },
    "id": "W9oFfvJbfkrN",
    "outputId": "d12f7113-10af-4c34-f5eb-797570bdfd4d"
   },
   "outputs": [
    {
     "name": "stdout",
     "output_type": "stream",
     "text": [
      "19866157\n"
     ]
    }
   ],
   "source": [
    "# Read all csv files in folder from google drive\n",
    "df = spark.read.options(inferSchema=True).csv('/content/drive/My Drive/taxitrips/*.csv', header=True)\n",
    "print(df.count())"
   ]
  },
  {
   "cell_type": "code",
   "execution_count": null,
   "metadata": {
    "colab": {
     "base_uri": "https://localhost:8080/"
    },
    "id": "T6v99UmEdKK1",
    "outputId": "c3d59ae9-378f-439b-b719-0e836f39fa2c"
   },
   "outputs": [
    {
     "name": "stdout",
     "output_type": "stream",
     "text": [
      "root\n",
      " |-- taxi_id: integer (nullable = true)\n",
      " |-- trip_seconds: integer (nullable = true)\n",
      " |-- trip_miles: double (nullable = true)\n",
      " |-- fare: double (nullable = true)\n",
      "\n"
     ]
    }
   ],
   "source": [
    "# Only keep the columns needed for analysis: (taxi_id, trip_seconds, trip_miles, fare)\n",
    "from pyspark.sql.functions import col\n",
    "import numpy as np\n",
    "import pandas as pd\n",
    "df = df.select(col('taxi_id'), col('trip_seconds'), col('trip_miles'), col('fare'))\n",
    "\n",
    "# Drop all rows with missing values in any of the three columns\n",
    "df = df.na.drop(subset= [\"fare\",\"trip_seconds\",\"trip_miles\"])\n",
    "df.printSchema()"
   ]
  },
  {
   "cell_type": "code",
   "execution_count": null,
   "metadata": {
    "id": "NP9gm7UsJ5xI"
   },
   "outputs": [],
   "source": [
    "import pyspark.sql.functions as F\n",
    "\n",
    "# drop rows where trip_seconds and trip_miles equal 0 and fare > 0\n",
    "df = df.filter(~((F.col('trip_seconds') == 0) & (F.col('trip_miles') == 0.0) & (F.col('fare') > 0.0)))"
   ]
  },
  {
   "cell_type": "markdown",
   "metadata": {
    "id": "SKjpL3P1lO0N"
   },
   "source": [
    "## 3. Process Data for Analysis\n",
    "\n",
    "I use VectorAssembler to create features column and rename fare as label column. Next, I filter out outliers for trip_seconds, trip_miles and fare using 40.0 x IQR. Normal convention is to use 1.5 or 3.0 x IQR, but I only want to filter out extreme outliers. I generate histograms of the filtered data and randomly split the final dataset into training and test sets using a 7:3 split.\n",
    "\n"
   ]
  },
  {
   "cell_type": "code",
   "execution_count": null,
   "metadata": {
    "id": "VheNZiA7lpx3"
   },
   "outputs": [],
   "source": [
    "from pyspark.ml.linalg import Vectors\n",
    "from pyspark.ml.feature import VectorAssembler\n",
    "# Create features vector column\n",
    "assembler = VectorAssembler(inputCols=[\"trip_seconds\", \"trip_miles\"], outputCol=\"features\")\n",
    "# Rename column\n",
    "temp = df.withColumnRenamed(\"fare\",\"label\")\n",
    "# Create final dataframe with label and features column\n",
    "temp_df = assembler.transform(temp)"
   ]
  },
  {
   "cell_type": "code",
   "execution_count": null,
   "metadata": {
    "colab": {
     "base_uri": "https://localhost:8080/",
     "height": 206
    },
    "id": "_3L-58HPYjw_",
    "outputId": "11ceb690-ddd5-4752-d1c4-f5e74f97c944"
   },
   "outputs": [
    {
     "data": {
      "text/html": [
       "\n",
       "  <div id=\"df-8d69f691-78bb-4e0a-a621-3fa1d745bfa3\" class=\"colab-df-container\">\n",
       "    <div>\n",
       "<style scoped>\n",
       "    .dataframe tbody tr th:only-of-type {\n",
       "        vertical-align: middle;\n",
       "    }\n",
       "\n",
       "    .dataframe tbody tr th {\n",
       "        vertical-align: top;\n",
       "    }\n",
       "\n",
       "    .dataframe thead th {\n",
       "        text-align: right;\n",
       "    }\n",
       "</style>\n",
       "<table border=\"1\" class=\"dataframe\">\n",
       "  <thead>\n",
       "    <tr style=\"text-align: right;\">\n",
       "      <th></th>\n",
       "      <th>summary</th>\n",
       "      <th>trip_seconds</th>\n",
       "      <th>trip_miles</th>\n",
       "      <th>label</th>\n",
       "    </tr>\n",
       "  </thead>\n",
       "  <tbody>\n",
       "    <tr>\n",
       "      <th>0</th>\n",
       "      <td>count</td>\n",
       "      <td>18283991</td>\n",
       "      <td>18283991</td>\n",
       "      <td>18283991</td>\n",
       "    </tr>\n",
       "    <tr>\n",
       "      <th>1</th>\n",
       "      <td>mean</td>\n",
       "      <td>833.2395106188796</td>\n",
       "      <td>3.687776817437554</td>\n",
       "      <td>13.763844179862032</td>\n",
       "    </tr>\n",
       "    <tr>\n",
       "      <th>2</th>\n",
       "      <td>stddev</td>\n",
       "      <td>1079.9953263549164</td>\n",
       "      <td>23.52953142874424</td>\n",
       "      <td>25.170068788649743</td>\n",
       "    </tr>\n",
       "    <tr>\n",
       "      <th>3</th>\n",
       "      <td>min</td>\n",
       "      <td>0</td>\n",
       "      <td>0.0</td>\n",
       "      <td>0.0</td>\n",
       "    </tr>\n",
       "    <tr>\n",
       "      <th>4</th>\n",
       "      <td>max</td>\n",
       "      <td>86399</td>\n",
       "      <td>3353.1</td>\n",
       "      <td>9999.0</td>\n",
       "    </tr>\n",
       "  </tbody>\n",
       "</table>\n",
       "</div>\n",
       "    <div class=\"colab-df-buttons\">\n",
       "\n",
       "  <div class=\"colab-df-container\">\n",
       "    <button class=\"colab-df-convert\" onclick=\"convertToInteractive('df-8d69f691-78bb-4e0a-a621-3fa1d745bfa3')\"\n",
       "            title=\"Convert this dataframe to an interactive table.\"\n",
       "            style=\"display:none;\">\n",
       "\n",
       "  <svg xmlns=\"http://www.w3.org/2000/svg\" height=\"24px\" viewBox=\"0 -960 960 960\">\n",
       "    <path d=\"M120-120v-720h720v720H120Zm60-500h600v-160H180v160Zm220 220h160v-160H400v160Zm0 220h160v-160H400v160ZM180-400h160v-160H180v160Zm440 0h160v-160H620v160ZM180-180h160v-160H180v160Zm440 0h160v-160H620v160Z\"/>\n",
       "  </svg>\n",
       "    </button>\n",
       "\n",
       "  <style>\n",
       "    .colab-df-container {\n",
       "      display:flex;\n",
       "      gap: 12px;\n",
       "    }\n",
       "\n",
       "    .colab-df-convert {\n",
       "      background-color: #E8F0FE;\n",
       "      border: none;\n",
       "      border-radius: 50%;\n",
       "      cursor: pointer;\n",
       "      display: none;\n",
       "      fill: #1967D2;\n",
       "      height: 32px;\n",
       "      padding: 0 0 0 0;\n",
       "      width: 32px;\n",
       "    }\n",
       "\n",
       "    .colab-df-convert:hover {\n",
       "      background-color: #E2EBFA;\n",
       "      box-shadow: 0px 1px 2px rgba(60, 64, 67, 0.3), 0px 1px 3px 1px rgba(60, 64, 67, 0.15);\n",
       "      fill: #174EA6;\n",
       "    }\n",
       "\n",
       "    .colab-df-buttons div {\n",
       "      margin-bottom: 4px;\n",
       "    }\n",
       "\n",
       "    [theme=dark] .colab-df-convert {\n",
       "      background-color: #3B4455;\n",
       "      fill: #D2E3FC;\n",
       "    }\n",
       "\n",
       "    [theme=dark] .colab-df-convert:hover {\n",
       "      background-color: #434B5C;\n",
       "      box-shadow: 0px 1px 3px 1px rgba(0, 0, 0, 0.15);\n",
       "      filter: drop-shadow(0px 1px 2px rgba(0, 0, 0, 0.3));\n",
       "      fill: #FFFFFF;\n",
       "    }\n",
       "  </style>\n",
       "\n",
       "    <script>\n",
       "      const buttonEl =\n",
       "        document.querySelector('#df-8d69f691-78bb-4e0a-a621-3fa1d745bfa3 button.colab-df-convert');\n",
       "      buttonEl.style.display =\n",
       "        google.colab.kernel.accessAllowed ? 'block' : 'none';\n",
       "\n",
       "      async function convertToInteractive(key) {\n",
       "        const element = document.querySelector('#df-8d69f691-78bb-4e0a-a621-3fa1d745bfa3');\n",
       "        const dataTable =\n",
       "          await google.colab.kernel.invokeFunction('convertToInteractive',\n",
       "                                                    [key], {});\n",
       "        if (!dataTable) return;\n",
       "\n",
       "        const docLinkHtml = 'Like what you see? Visit the ' +\n",
       "          '<a target=\"_blank\" href=https://colab.research.google.com/notebooks/data_table.ipynb>data table notebook</a>'\n",
       "          + ' to learn more about interactive tables.';\n",
       "        element.innerHTML = '';\n",
       "        dataTable['output_type'] = 'display_data';\n",
       "        await google.colab.output.renderOutput(dataTable, element);\n",
       "        const docLink = document.createElement('div');\n",
       "        docLink.innerHTML = docLinkHtml;\n",
       "        element.appendChild(docLink);\n",
       "      }\n",
       "    </script>\n",
       "  </div>\n",
       "\n",
       "\n",
       "<div id=\"df-7a92eac7-29a0-483c-91d9-90029537feb4\">\n",
       "  <button class=\"colab-df-quickchart\" onclick=\"quickchart('df-7a92eac7-29a0-483c-91d9-90029537feb4')\"\n",
       "            title=\"Suggest charts\"\n",
       "            style=\"display:none;\">\n",
       "\n",
       "<svg xmlns=\"http://www.w3.org/2000/svg\" height=\"24px\"viewBox=\"0 0 24 24\"\n",
       "     width=\"24px\">\n",
       "    <g>\n",
       "        <path d=\"M19 3H5c-1.1 0-2 .9-2 2v14c0 1.1.9 2 2 2h14c1.1 0 2-.9 2-2V5c0-1.1-.9-2-2-2zM9 17H7v-7h2v7zm4 0h-2V7h2v10zm4 0h-2v-4h2v4z\"/>\n",
       "    </g>\n",
       "</svg>\n",
       "  </button>\n",
       "\n",
       "<style>\n",
       "  .colab-df-quickchart {\n",
       "      --bg-color: #E8F0FE;\n",
       "      --fill-color: #1967D2;\n",
       "      --hover-bg-color: #E2EBFA;\n",
       "      --hover-fill-color: #174EA6;\n",
       "      --disabled-fill-color: #AAA;\n",
       "      --disabled-bg-color: #DDD;\n",
       "  }\n",
       "\n",
       "  [theme=dark] .colab-df-quickchart {\n",
       "      --bg-color: #3B4455;\n",
       "      --fill-color: #D2E3FC;\n",
       "      --hover-bg-color: #434B5C;\n",
       "      --hover-fill-color: #FFFFFF;\n",
       "      --disabled-bg-color: #3B4455;\n",
       "      --disabled-fill-color: #666;\n",
       "  }\n",
       "\n",
       "  .colab-df-quickchart {\n",
       "    background-color: var(--bg-color);\n",
       "    border: none;\n",
       "    border-radius: 50%;\n",
       "    cursor: pointer;\n",
       "    display: none;\n",
       "    fill: var(--fill-color);\n",
       "    height: 32px;\n",
       "    padding: 0;\n",
       "    width: 32px;\n",
       "  }\n",
       "\n",
       "  .colab-df-quickchart:hover {\n",
       "    background-color: var(--hover-bg-color);\n",
       "    box-shadow: 0 1px 2px rgba(60, 64, 67, 0.3), 0 1px 3px 1px rgba(60, 64, 67, 0.15);\n",
       "    fill: var(--button-hover-fill-color);\n",
       "  }\n",
       "\n",
       "  .colab-df-quickchart-complete:disabled,\n",
       "  .colab-df-quickchart-complete:disabled:hover {\n",
       "    background-color: var(--disabled-bg-color);\n",
       "    fill: var(--disabled-fill-color);\n",
       "    box-shadow: none;\n",
       "  }\n",
       "\n",
       "  .colab-df-spinner {\n",
       "    border: 2px solid var(--fill-color);\n",
       "    border-color: transparent;\n",
       "    border-bottom-color: var(--fill-color);\n",
       "    animation:\n",
       "      spin 1s steps(1) infinite;\n",
       "  }\n",
       "\n",
       "  @keyframes spin {\n",
       "    0% {\n",
       "      border-color: transparent;\n",
       "      border-bottom-color: var(--fill-color);\n",
       "      border-left-color: var(--fill-color);\n",
       "    }\n",
       "    20% {\n",
       "      border-color: transparent;\n",
       "      border-left-color: var(--fill-color);\n",
       "      border-top-color: var(--fill-color);\n",
       "    }\n",
       "    30% {\n",
       "      border-color: transparent;\n",
       "      border-left-color: var(--fill-color);\n",
       "      border-top-color: var(--fill-color);\n",
       "      border-right-color: var(--fill-color);\n",
       "    }\n",
       "    40% {\n",
       "      border-color: transparent;\n",
       "      border-right-color: var(--fill-color);\n",
       "      border-top-color: var(--fill-color);\n",
       "    }\n",
       "    60% {\n",
       "      border-color: transparent;\n",
       "      border-right-color: var(--fill-color);\n",
       "    }\n",
       "    80% {\n",
       "      border-color: transparent;\n",
       "      border-right-color: var(--fill-color);\n",
       "      border-bottom-color: var(--fill-color);\n",
       "    }\n",
       "    90% {\n",
       "      border-color: transparent;\n",
       "      border-bottom-color: var(--fill-color);\n",
       "    }\n",
       "  }\n",
       "</style>\n",
       "\n",
       "  <script>\n",
       "    async function quickchart(key) {\n",
       "      const quickchartButtonEl =\n",
       "        document.querySelector('#' + key + ' button');\n",
       "      quickchartButtonEl.disabled = true;  // To prevent multiple clicks.\n",
       "      quickchartButtonEl.classList.add('colab-df-spinner');\n",
       "      try {\n",
       "        const charts = await google.colab.kernel.invokeFunction(\n",
       "            'suggestCharts', [key], {});\n",
       "      } catch (error) {\n",
       "        console.error('Error during call to suggestCharts:', error);\n",
       "      }\n",
       "      quickchartButtonEl.classList.remove('colab-df-spinner');\n",
       "      quickchartButtonEl.classList.add('colab-df-quickchart-complete');\n",
       "    }\n",
       "    (() => {\n",
       "      let quickchartButtonEl =\n",
       "        document.querySelector('#df-7a92eac7-29a0-483c-91d9-90029537feb4 button');\n",
       "      quickchartButtonEl.style.display =\n",
       "        google.colab.kernel.accessAllowed ? 'block' : 'none';\n",
       "    })();\n",
       "  </script>\n",
       "</div>\n",
       "\n",
       "    </div>\n",
       "  </div>\n"
      ],
      "text/plain": [
       "  summary        trip_seconds         trip_miles               label\n",
       "0   count            18283991           18283991            18283991\n",
       "1    mean   833.2395106188796  3.687776817437554  13.763844179862032\n",
       "2  stddev  1079.9953263549164  23.52953142874424  25.170068788649743\n",
       "3     min                   0                0.0                 0.0\n",
       "4     max               86399             3353.1              9999.0"
      ]
     },
     "execution_count": 7,
     "metadata": {},
     "output_type": "execute_result"
    }
   ],
   "source": [
    "# Summary statistics\n",
    "temp_df.describe(\"trip_seconds\",\"trip_miles\", \"label\").toPandas()"
   ]
  },
  {
   "cell_type": "code",
   "execution_count": null,
   "metadata": {
    "id": "pM7-lgf6PyzE"
   },
   "outputs": [],
   "source": [
    "# Function to filter outliers from df based on factor x IQR upper bound (should be no difference as lowest value for all 3 variables is 0, so do not filter by lower bound)\n",
    "def iqr_outlier(df, columns, factor=40.0):\n",
    "    for column in columns:\n",
    "        # Calculate Q1, Q3, and IQR using .approxQuantile()\n",
    "        quantiles = df.approxQuantile(column, [0.25, 0.75], 0.01)\n",
    "        q1, q3 = quantiles[0], quantiles[1]\n",
    "        iqr = q3 - q1\n",
    "        # Define the upper bound for outliers\n",
    "        upper_bound = q3 + (factor * iqr)\n",
    "        # Filter outliers and update the df\n",
    "        df = df.filter((col(column) <= upper_bound))\n",
    "    return df"
   ]
  },
  {
   "cell_type": "code",
   "execution_count": null,
   "metadata": {
    "id": "2Z-NhFOMQxZF"
   },
   "outputs": [],
   "source": [
    "# Invoke function to filter outliers\n",
    "final_df = iqr_outlier(temp_df, [\"trip_seconds\",\"trip_miles\",\"label\"])"
   ]
  },
  {
   "cell_type": "code",
   "execution_count": null,
   "metadata": {
    "colab": {
     "base_uri": "https://localhost:8080/",
     "height": 206
    },
    "id": "ovolPYQNpBg4",
    "outputId": "3397ee4d-2bec-43f7-da2c-8477d22de6b1"
   },
   "outputs": [
    {
     "data": {
      "text/html": [
       "\n",
       "  <div id=\"df-4cfe0e3b-8b1c-4d16-804b-f21aff459534\" class=\"colab-df-container\">\n",
       "    <div>\n",
       "<style scoped>\n",
       "    .dataframe tbody tr th:only-of-type {\n",
       "        vertical-align: middle;\n",
       "    }\n",
       "\n",
       "    .dataframe tbody tr th {\n",
       "        vertical-align: top;\n",
       "    }\n",
       "\n",
       "    .dataframe thead th {\n",
       "        text-align: right;\n",
       "    }\n",
       "</style>\n",
       "<table border=\"1\" class=\"dataframe\">\n",
       "  <thead>\n",
       "    <tr style=\"text-align: right;\">\n",
       "      <th></th>\n",
       "      <th>summary</th>\n",
       "      <th>trip_seconds</th>\n",
       "      <th>trip_miles</th>\n",
       "      <th>label</th>\n",
       "    </tr>\n",
       "  </thead>\n",
       "  <tbody>\n",
       "    <tr>\n",
       "      <th>0</th>\n",
       "      <td>count</td>\n",
       "      <td>18261021</td>\n",
       "      <td>18261021</td>\n",
       "      <td>18261021</td>\n",
       "    </tr>\n",
       "    <tr>\n",
       "      <th>1</th>\n",
       "      <td>mean</td>\n",
       "      <td>822.8428331581241</td>\n",
       "      <td>3.2141201502391166</td>\n",
       "      <td>13.649555748279337</td>\n",
       "    </tr>\n",
       "    <tr>\n",
       "      <th>2</th>\n",
       "      <td>stddev</td>\n",
       "      <td>782.2658607640693</td>\n",
       "      <td>5.397947768181209</td>\n",
       "      <td>12.60372209417868</td>\n",
       "    </tr>\n",
       "    <tr>\n",
       "      <th>3</th>\n",
       "      <td>min</td>\n",
       "      <td>0</td>\n",
       "      <td>0.0</td>\n",
       "      <td>0.0</td>\n",
       "    </tr>\n",
       "    <tr>\n",
       "      <th>4</th>\n",
       "      <td>max</td>\n",
       "      <td>27420</td>\n",
       "      <td>103.0</td>\n",
       "      <td>323.55</td>\n",
       "    </tr>\n",
       "  </tbody>\n",
       "</table>\n",
       "</div>\n",
       "    <div class=\"colab-df-buttons\">\n",
       "\n",
       "  <div class=\"colab-df-container\">\n",
       "    <button class=\"colab-df-convert\" onclick=\"convertToInteractive('df-4cfe0e3b-8b1c-4d16-804b-f21aff459534')\"\n",
       "            title=\"Convert this dataframe to an interactive table.\"\n",
       "            style=\"display:none;\">\n",
       "\n",
       "  <svg xmlns=\"http://www.w3.org/2000/svg\" height=\"24px\" viewBox=\"0 -960 960 960\">\n",
       "    <path d=\"M120-120v-720h720v720H120Zm60-500h600v-160H180v160Zm220 220h160v-160H400v160Zm0 220h160v-160H400v160ZM180-400h160v-160H180v160Zm440 0h160v-160H620v160ZM180-180h160v-160H180v160Zm440 0h160v-160H620v160Z\"/>\n",
       "  </svg>\n",
       "    </button>\n",
       "\n",
       "  <style>\n",
       "    .colab-df-container {\n",
       "      display:flex;\n",
       "      gap: 12px;\n",
       "    }\n",
       "\n",
       "    .colab-df-convert {\n",
       "      background-color: #E8F0FE;\n",
       "      border: none;\n",
       "      border-radius: 50%;\n",
       "      cursor: pointer;\n",
       "      display: none;\n",
       "      fill: #1967D2;\n",
       "      height: 32px;\n",
       "      padding: 0 0 0 0;\n",
       "      width: 32px;\n",
       "    }\n",
       "\n",
       "    .colab-df-convert:hover {\n",
       "      background-color: #E2EBFA;\n",
       "      box-shadow: 0px 1px 2px rgba(60, 64, 67, 0.3), 0px 1px 3px 1px rgba(60, 64, 67, 0.15);\n",
       "      fill: #174EA6;\n",
       "    }\n",
       "\n",
       "    .colab-df-buttons div {\n",
       "      margin-bottom: 4px;\n",
       "    }\n",
       "\n",
       "    [theme=dark] .colab-df-convert {\n",
       "      background-color: #3B4455;\n",
       "      fill: #D2E3FC;\n",
       "    }\n",
       "\n",
       "    [theme=dark] .colab-df-convert:hover {\n",
       "      background-color: #434B5C;\n",
       "      box-shadow: 0px 1px 3px 1px rgba(0, 0, 0, 0.15);\n",
       "      filter: drop-shadow(0px 1px 2px rgba(0, 0, 0, 0.3));\n",
       "      fill: #FFFFFF;\n",
       "    }\n",
       "  </style>\n",
       "\n",
       "    <script>\n",
       "      const buttonEl =\n",
       "        document.querySelector('#df-4cfe0e3b-8b1c-4d16-804b-f21aff459534 button.colab-df-convert');\n",
       "      buttonEl.style.display =\n",
       "        google.colab.kernel.accessAllowed ? 'block' : 'none';\n",
       "\n",
       "      async function convertToInteractive(key) {\n",
       "        const element = document.querySelector('#df-4cfe0e3b-8b1c-4d16-804b-f21aff459534');\n",
       "        const dataTable =\n",
       "          await google.colab.kernel.invokeFunction('convertToInteractive',\n",
       "                                                    [key], {});\n",
       "        if (!dataTable) return;\n",
       "\n",
       "        const docLinkHtml = 'Like what you see? Visit the ' +\n",
       "          '<a target=\"_blank\" href=https://colab.research.google.com/notebooks/data_table.ipynb>data table notebook</a>'\n",
       "          + ' to learn more about interactive tables.';\n",
       "        element.innerHTML = '';\n",
       "        dataTable['output_type'] = 'display_data';\n",
       "        await google.colab.output.renderOutput(dataTable, element);\n",
       "        const docLink = document.createElement('div');\n",
       "        docLink.innerHTML = docLinkHtml;\n",
       "        element.appendChild(docLink);\n",
       "      }\n",
       "    </script>\n",
       "  </div>\n",
       "\n",
       "\n",
       "<div id=\"df-5c54e25e-f62f-4b7b-afeb-c22263bb11e7\">\n",
       "  <button class=\"colab-df-quickchart\" onclick=\"quickchart('df-5c54e25e-f62f-4b7b-afeb-c22263bb11e7')\"\n",
       "            title=\"Suggest charts\"\n",
       "            style=\"display:none;\">\n",
       "\n",
       "<svg xmlns=\"http://www.w3.org/2000/svg\" height=\"24px\"viewBox=\"0 0 24 24\"\n",
       "     width=\"24px\">\n",
       "    <g>\n",
       "        <path d=\"M19 3H5c-1.1 0-2 .9-2 2v14c0 1.1.9 2 2 2h14c1.1 0 2-.9 2-2V5c0-1.1-.9-2-2-2zM9 17H7v-7h2v7zm4 0h-2V7h2v10zm4 0h-2v-4h2v4z\"/>\n",
       "    </g>\n",
       "</svg>\n",
       "  </button>\n",
       "\n",
       "<style>\n",
       "  .colab-df-quickchart {\n",
       "      --bg-color: #E8F0FE;\n",
       "      --fill-color: #1967D2;\n",
       "      --hover-bg-color: #E2EBFA;\n",
       "      --hover-fill-color: #174EA6;\n",
       "      --disabled-fill-color: #AAA;\n",
       "      --disabled-bg-color: #DDD;\n",
       "  }\n",
       "\n",
       "  [theme=dark] .colab-df-quickchart {\n",
       "      --bg-color: #3B4455;\n",
       "      --fill-color: #D2E3FC;\n",
       "      --hover-bg-color: #434B5C;\n",
       "      --hover-fill-color: #FFFFFF;\n",
       "      --disabled-bg-color: #3B4455;\n",
       "      --disabled-fill-color: #666;\n",
       "  }\n",
       "\n",
       "  .colab-df-quickchart {\n",
       "    background-color: var(--bg-color);\n",
       "    border: none;\n",
       "    border-radius: 50%;\n",
       "    cursor: pointer;\n",
       "    display: none;\n",
       "    fill: var(--fill-color);\n",
       "    height: 32px;\n",
       "    padding: 0;\n",
       "    width: 32px;\n",
       "  }\n",
       "\n",
       "  .colab-df-quickchart:hover {\n",
       "    background-color: var(--hover-bg-color);\n",
       "    box-shadow: 0 1px 2px rgba(60, 64, 67, 0.3), 0 1px 3px 1px rgba(60, 64, 67, 0.15);\n",
       "    fill: var(--button-hover-fill-color);\n",
       "  }\n",
       "\n",
       "  .colab-df-quickchart-complete:disabled,\n",
       "  .colab-df-quickchart-complete:disabled:hover {\n",
       "    background-color: var(--disabled-bg-color);\n",
       "    fill: var(--disabled-fill-color);\n",
       "    box-shadow: none;\n",
       "  }\n",
       "\n",
       "  .colab-df-spinner {\n",
       "    border: 2px solid var(--fill-color);\n",
       "    border-color: transparent;\n",
       "    border-bottom-color: var(--fill-color);\n",
       "    animation:\n",
       "      spin 1s steps(1) infinite;\n",
       "  }\n",
       "\n",
       "  @keyframes spin {\n",
       "    0% {\n",
       "      border-color: transparent;\n",
       "      border-bottom-color: var(--fill-color);\n",
       "      border-left-color: var(--fill-color);\n",
       "    }\n",
       "    20% {\n",
       "      border-color: transparent;\n",
       "      border-left-color: var(--fill-color);\n",
       "      border-top-color: var(--fill-color);\n",
       "    }\n",
       "    30% {\n",
       "      border-color: transparent;\n",
       "      border-left-color: var(--fill-color);\n",
       "      border-top-color: var(--fill-color);\n",
       "      border-right-color: var(--fill-color);\n",
       "    }\n",
       "    40% {\n",
       "      border-color: transparent;\n",
       "      border-right-color: var(--fill-color);\n",
       "      border-top-color: var(--fill-color);\n",
       "    }\n",
       "    60% {\n",
       "      border-color: transparent;\n",
       "      border-right-color: var(--fill-color);\n",
       "    }\n",
       "    80% {\n",
       "      border-color: transparent;\n",
       "      border-right-color: var(--fill-color);\n",
       "      border-bottom-color: var(--fill-color);\n",
       "    }\n",
       "    90% {\n",
       "      border-color: transparent;\n",
       "      border-bottom-color: var(--fill-color);\n",
       "    }\n",
       "  }\n",
       "</style>\n",
       "\n",
       "  <script>\n",
       "    async function quickchart(key) {\n",
       "      const quickchartButtonEl =\n",
       "        document.querySelector('#' + key + ' button');\n",
       "      quickchartButtonEl.disabled = true;  // To prevent multiple clicks.\n",
       "      quickchartButtonEl.classList.add('colab-df-spinner');\n",
       "      try {\n",
       "        const charts = await google.colab.kernel.invokeFunction(\n",
       "            'suggestCharts', [key], {});\n",
       "      } catch (error) {\n",
       "        console.error('Error during call to suggestCharts:', error);\n",
       "      }\n",
       "      quickchartButtonEl.classList.remove('colab-df-spinner');\n",
       "      quickchartButtonEl.classList.add('colab-df-quickchart-complete');\n",
       "    }\n",
       "    (() => {\n",
       "      let quickchartButtonEl =\n",
       "        document.querySelector('#df-5c54e25e-f62f-4b7b-afeb-c22263bb11e7 button');\n",
       "      quickchartButtonEl.style.display =\n",
       "        google.colab.kernel.accessAllowed ? 'block' : 'none';\n",
       "    })();\n",
       "  </script>\n",
       "</div>\n",
       "\n",
       "    </div>\n",
       "  </div>\n"
      ],
      "text/plain": [
       "  summary       trip_seconds          trip_miles               label\n",
       "0   count           18261021            18261021            18261021\n",
       "1    mean  822.8428331581241  3.2141201502391166  13.649555748279337\n",
       "2  stddev  782.2658607640693   5.397947768181209   12.60372209417868\n",
       "3     min                  0                 0.0                 0.0\n",
       "4     max              27420               103.0              323.55"
      ]
     },
     "execution_count": 30,
     "metadata": {},
     "output_type": "execute_result"
    }
   ],
   "source": [
    "# Summary statistics\n",
    "final_df.describe(\"trip_seconds\",\"trip_miles\", \"label\").toPandas()"
   ]
  },
  {
   "cell_type": "code",
   "execution_count": null,
   "metadata": {
    "id": "17LvnZNZ02-T"
   },
   "outputs": [],
   "source": [
    "import matplotlib.pyplot as plt\n",
    "# For 3d plot in kmeans\n",
    "from mpl_toolkits import mplot3d"
   ]
  },
  {
   "cell_type": "code",
   "execution_count": null,
   "metadata": {
    "id": "mRqPmkKmx25L"
   },
   "outputs": [],
   "source": [
    "# Package for plotting histograms in PySpark\n",
    "!pip install -q pyspark_dist_explore\n",
    "from pyspark_dist_explore import hist"
   ]
  },
  {
   "cell_type": "code",
   "execution_count": null,
   "metadata": {
    "colab": {
     "base_uri": "https://localhost:8080/",
     "height": 1000
    },
    "id": "yV8un9OwMPLB",
    "outputId": "91f84c13-74b7-4f4c-f1d5-57cc881fddb9"
   },
   "outputs": [
    {
     "data": {
      "text/plain": [
       "(array([2.494207e+06, 6.355628e+06, 3.392484e+06, 2.178814e+06,\n",
       "        9.902990e+05, 8.469860e+05, 4.670660e+05, 4.315220e+05,\n",
       "        3.200290e+05, 1.934360e+05, 1.815510e+05, 1.080730e+05,\n",
       "        9.751200e+04, 5.489000e+04, 4.732500e+04, 3.087200e+04,\n",
       "        1.716600e+04, 1.445500e+04, 7.801000e+03, 6.634000e+03,\n",
       "        3.613000e+03, 3.276000e+03, 2.273000e+03, 1.464000e+03,\n",
       "        1.464000e+03, 9.920000e+02, 1.079000e+03, 7.370000e+02,\n",
       "        8.050000e+02, 7.150000e+02, 5.230000e+02, 5.690000e+02,\n",
       "        3.840000e+02, 4.460000e+02, 3.310000e+02, 3.640000e+02,\n",
       "        3.030000e+02, 2.320000e+02, 2.830000e+02, 1.950000e+02,\n",
       "        2.050000e+02, 1.760000e+02, 1.950000e+02, 1.950000e+02,\n",
       "        1.260000e+02, 1.390000e+02, 1.030000e+02, 1.330000e+02,\n",
       "        8.600000e+01, 1.080000e+02, 1.080000e+02, 8.500000e+01,\n",
       "        2.500000e+02, 7.600000e+01, 8.300000e+01, 7.200000e+01,\n",
       "        8.600000e+01, 7.900000e+01, 4.500000e+01, 7.600000e+01,\n",
       "        5.100000e+01, 6.600000e+01, 5.300000e+01, 7.200000e+01,\n",
       "        6.400000e+01, 4.300000e+01, 6.000000e+01, 3.600000e+01,\n",
       "        6.100000e+01, 3.900000e+01, 4.600000e+01, 3.900000e+01,\n",
       "        4.700000e+01, 5.700000e+01, 4.600000e+01, 3.100000e+01,\n",
       "        3.100000e+01, 6.000000e+01, 6.200000e+01, 3.600000e+01,\n",
       "        5.300000e+01, 3.400000e+01, 4.800000e+01, 5.000000e+01,\n",
       "        5.000000e+01, 3.400000e+01, 3.700000e+01, 3.600000e+01,\n",
       "        4.100000e+01, 4.300000e+01, 4.700000e+01, 3.400000e+01,\n",
       "        4.800000e+01, 3.500000e+01, 4.100000e+01, 3.100000e+01,\n",
       "        3.400000e+01, 3.900000e+01, 2.800000e+01, 3.400000e+01]),\n",
       " array([    0. ,   274.2,   548.4,   822.6,  1096.8,  1371. ,  1645.2,\n",
       "         1919.4,  2193.6,  2467.8,  2742. ,  3016.2,  3290.4,  3564.6,\n",
       "         3838.8,  4113. ,  4387.2,  4661.4,  4935.6,  5209.8,  5484. ,\n",
       "         5758.2,  6032.4,  6306.6,  6580.8,  6855. ,  7129.2,  7403.4,\n",
       "         7677.6,  7951.8,  8226. ,  8500.2,  8774.4,  9048.6,  9322.8,\n",
       "         9597. ,  9871.2, 10145.4, 10419.6, 10693.8, 10968. , 11242.2,\n",
       "        11516.4, 11790.6, 12064.8, 12339. , 12613.2, 12887.4, 13161.6,\n",
       "        13435.8, 13710. , 13984.2, 14258.4, 14532.6, 14806.8, 15081. ,\n",
       "        15355.2, 15629.4, 15903.6, 16177.8, 16452. , 16726.2, 17000.4,\n",
       "        17274.6, 17548.8, 17823. , 18097.2, 18371.4, 18645.6, 18919.8,\n",
       "        19194. , 19468.2, 19742.4, 20016.6, 20290.8, 20565. , 20839.2,\n",
       "        21113.4, 21387.6, 21661.8, 21936. , 22210.2, 22484.4, 22758.6,\n",
       "        23032.8, 23307. , 23581.2, 23855.4, 24129.6, 24403.8, 24678. ,\n",
       "        24952.2, 25226.4, 25500.6, 25774.8, 26049. , 26323.2, 26597.4,\n",
       "        26871.6, 27145.8, 27420. ]),\n",
       " <BarContainer object of 100 artists>)"
      ]
     },
     "execution_count": 34,
     "metadata": {},
     "output_type": "execute_result"
    },
    {
     "data": {
      "image/png": "[encoded data removed]",
      "text/plain": [
       "<Figure size 640x480 with 1 Axes>"
      ]
     },
     "metadata": {},
     "output_type": "display_data"
    }
   ],
   "source": [
    "# Plot histograms\n",
    "fig, ax = plt.subplots()\n",
    "hist(ax, final_df.select('trip_seconds'), bins = 100, color=['red'])"
   ]
  },
  {
   "cell_type": "code",
   "execution_count": null,
   "metadata": {
    "colab": {
     "base_uri": "https://localhost:8080/",
     "height": 1000
    },
    "id": "OGPMxqIzNzRD",
    "outputId": "df8a769c-3e2c-4f9d-b4dd-ad459a9f5c56"
   },
   "outputs": [
    {
     "data": {
      "text/plain": [
       "(array([8.168826e+06, 4.018474e+06, 1.583196e+06, 9.845580e+05,\n",
       "        5.345790e+05, 3.785140e+05, 2.783540e+05, 1.777050e+05,\n",
       "        1.305770e+05, 9.956900e+04, 1.158740e+05, 1.205180e+05,\n",
       "        1.864900e+05, 1.487500e+05, 1.262290e+05, 1.139550e+05,\n",
       "        3.555460e+05, 4.588890e+05, 8.236500e+04, 3.817700e+04,\n",
       "        3.371200e+04, 1.264500e+04, 1.030600e+04, 1.292600e+04,\n",
       "        1.073700e+04, 8.851000e+03, 7.850000e+03, 6.295000e+03,\n",
       "        5.685000e+03, 6.670000e+03, 5.771000e+03, 3.874000e+03,\n",
       "        3.239000e+03, 3.182000e+03, 2.372000e+03, 1.931000e+03,\n",
       "        1.773000e+03, 1.368000e+03, 1.562000e+03, 1.037000e+03,\n",
       "        1.062000e+03, 8.930000e+02, 7.170000e+02, 7.810000e+02,\n",
       "        6.850000e+02, 5.610000e+02, 6.000000e+02, 4.820000e+02,\n",
       "        9.250000e+02, 3.910000e+02, 3.790000e+02, 3.540000e+02,\n",
       "        3.120000e+02, 3.170000e+02, 2.910000e+02, 2.770000e+02,\n",
       "        2.810000e+02, 2.530000e+02, 8.280000e+02, 2.330000e+02,\n",
       "        2.040000e+02, 2.060000e+02, 2.040000e+02, 1.890000e+02,\n",
       "        1.600000e+02, 1.460000e+02, 1.810000e+02, 8.720000e+02,\n",
       "        1.410000e+02, 1.690000e+02, 1.230000e+02, 1.370000e+02,\n",
       "        1.420000e+02, 1.420000e+02, 1.050000e+02, 1.240000e+02,\n",
       "        1.330000e+02, 9.090000e+02, 1.020000e+02, 9.700000e+01,\n",
       "        1.070000e+02, 9.900000e+01, 9.900000e+01, 1.050000e+02,\n",
       "        7.700000e+01, 7.600000e+01, 8.900000e+01, 8.360000e+02,\n",
       "        7.600000e+01, 6.700000e+01, 6.100000e+01, 5.800000e+01,\n",
       "        6.800000e+01, 6.800000e+01, 5.400000e+01, 5.700000e+01,\n",
       "        6.500000e+01, 7.950000e+02, 6.000000e+01, 6.500000e+01]),\n",
       " array([  0.  ,   1.03,   2.06,   3.09,   4.12,   5.15,   6.18,   7.21,\n",
       "          8.24,   9.27,  10.3 ,  11.33,  12.36,  13.39,  14.42,  15.45,\n",
       "         16.48,  17.51,  18.54,  19.57,  20.6 ,  21.63,  22.66,  23.69,\n",
       "         24.72,  25.75,  26.78,  27.81,  28.84,  29.87,  30.9 ,  31.93,\n",
       "         32.96,  33.99,  35.02,  36.05,  37.08,  38.11,  39.14,  40.17,\n",
       "         41.2 ,  42.23,  43.26,  44.29,  45.32,  46.35,  47.38,  48.41,\n",
       "         49.44,  50.47,  51.5 ,  52.53,  53.56,  54.59,  55.62,  56.65,\n",
       "         57.68,  58.71,  59.74,  60.77,  61.8 ,  62.83,  63.86,  64.89,\n",
       "         65.92,  66.95,  67.98,  69.01,  70.04,  71.07,  72.1 ,  73.13,\n",
       "         74.16,  75.19,  76.22,  77.25,  78.28,  79.31,  80.34,  81.37,\n",
       "         82.4 ,  83.43,  84.46,  85.49,  86.52,  87.55,  88.58,  89.61,\n",
       "         90.64,  91.67,  92.7 ,  93.73,  94.76,  95.79,  96.82,  97.85,\n",
       "         98.88,  99.91, 100.94, 101.97, 103.  ]),\n",
       " <BarContainer object of 100 artists>)"
      ]
     },
     "execution_count": 35,
     "metadata": {},
     "output_type": "execute_result"
    },
    {
     "data": {
      "image/png": "[encoded data removed]",
      "text/plain": [
       "<Figure size 640x480 with 1 Axes>"
      ]
     },
     "metadata": {},
     "output_type": "display_data"
    }
   ],
   "source": [
    "fig, ax = plt.subplots()\n",
    "hist(ax, final_df.select('trip_miles'), bins = 100, color=['blue'])"
   ]
  },
  {
   "cell_type": "code",
   "execution_count": null,
   "metadata": {
    "colab": {
     "base_uri": "https://localhost:8080/",
     "height": 1000
    },
    "id": "nrf-EfadNzHN",
    "outputId": "8d4f8913-9899-4b82-e6df-c5ea2b6029fd"
   },
   "outputs": [
    {
     "data": {
      "text/plain": [
       "(array([1.493100e+04, 4.737137e+06, 5.820899e+06, 2.509766e+06,\n",
       "        1.246068e+06, 7.066410e+05, 4.275110e+05, 2.636330e+05,\n",
       "        1.928060e+05, 2.027260e+05, 2.990500e+05, 2.602910e+05,\n",
       "        2.702080e+05, 6.932850e+05, 3.405420e+05, 9.744900e+04,\n",
       "        4.341000e+04, 2.196200e+04, 2.264200e+04, 1.688600e+04,\n",
       "        1.281700e+04, 1.086000e+04, 1.048700e+04, 8.742000e+03,\n",
       "        5.325000e+03, 4.284000e+03, 3.446000e+03, 2.759000e+03,\n",
       "        2.111000e+03, 1.809000e+03, 1.639000e+03, 1.239000e+03,\n",
       "        1.031000e+03, 9.230000e+02, 6.090000e+02, 6.030000e+02,\n",
       "        4.950000e+02, 4.360000e+02, 3.840000e+02, 2.650000e+02,\n",
       "        2.840000e+02, 2.470000e+02, 2.090000e+02, 2.090000e+02,\n",
       "        1.640000e+02, 1.780000e+02, 1.720000e+02, 1.110000e+02,\n",
       "        1.050000e+02, 8.400000e+01, 8.100000e+01, 8.300000e+01,\n",
       "        7.400000e+01, 5.200000e+01, 5.200000e+01, 6.700000e+01,\n",
       "        5.400000e+01, 3.800000e+01, 3.600000e+01, 4.800000e+01,\n",
       "        3.500000e+01, 8.700000e+01, 3.400000e+01, 3.100000e+01,\n",
       "        2.700000e+01, 2.000000e+01, 2.600000e+01, 4.100000e+01,\n",
       "        2.900000e+01, 1.700000e+01, 1.800000e+01, 1.900000e+01,\n",
       "        2.100000e+01, 1.200000e+01, 9.000000e+00, 5.000000e+00,\n",
       "        6.000000e+00, 1.700000e+01, 1.300000e+01, 8.000000e+00,\n",
       "        3.000000e+00, 3.000000e+00, 1.000000e+00, 4.000000e+00,\n",
       "        3.000000e+00, 4.000000e+00, 5.000000e+00, 2.000000e+00,\n",
       "        4.000000e+00, 6.000000e+00, 2.000000e+00, 4.000000e+00,\n",
       "        2.600000e+01, 2.000000e+00, 2.000000e+00, 6.000000e+00,\n",
       "        3.000000e+00, 3.000000e+00, 0.000000e+00, 8.000000e+00]),\n",
       " array([  0.    ,   3.2355,   6.471 ,   9.7065,  12.942 ,  16.1775,\n",
       "         19.413 ,  22.6485,  25.884 ,  29.1195,  32.355 ,  35.5905,\n",
       "         38.826 ,  42.0615,  45.297 ,  48.5325,  51.768 ,  55.0035,\n",
       "         58.239 ,  61.4745,  64.71  ,  67.9455,  71.181 ,  74.4165,\n",
       "         77.652 ,  80.8875,  84.123 ,  87.3585,  90.594 ,  93.8295,\n",
       "         97.065 , 100.3005, 103.536 , 106.7715, 110.007 , 113.2425,\n",
       "        116.478 , 119.7135, 122.949 , 126.1845, 129.42  , 132.6555,\n",
       "        135.891 , 139.1265, 142.362 , 145.5975, 148.833 , 152.0685,\n",
       "        155.304 , 158.5395, 161.775 , 165.0105, 168.246 , 171.4815,\n",
       "        174.717 , 177.9525, 181.188 , 184.4235, 187.659 , 190.8945,\n",
       "        194.13  , 197.3655, 200.601 , 203.8365, 207.072 , 210.3075,\n",
       "        213.543 , 216.7785, 220.014 , 223.2495, 226.485 , 229.7205,\n",
       "        232.956 , 236.1915, 239.427 , 242.6625, 245.898 , 249.1335,\n",
       "        252.369 , 255.6045, 258.84  , 262.0755, 265.311 , 268.5465,\n",
       "        271.782 , 275.0175, 278.253 , 281.4885, 284.724 , 287.9595,\n",
       "        291.195 , 294.4305, 297.666 , 300.9015, 304.137 , 307.3725,\n",
       "        310.608 , 313.8435, 317.079 , 320.3145, 323.55  ]),\n",
       " <BarContainer object of 100 artists>)"
      ]
     },
     "execution_count": 36,
     "metadata": {},
     "output_type": "execute_result"
    },
    {
     "data": {
      "image/png": "[encoded data removed]",
      "text/plain": [
       "<Figure size 640x480 with 1 Axes>"
      ]
     },
     "metadata": {},
     "output_type": "display_data"
    }
   ],
   "source": [
    "fig, ax = plt.subplots()\n",
    "hist(ax, final_df.select('label'), bins = 100, color=['purple'])"
   ]
  },
  {
   "cell_type": "markdown",
   "metadata": {
    "id": "i8FP1Cu8-2Ef"
   },
   "source": [
    "The histograms show most of the data falls into the first few bins with a right skew. The right skew would be even greater if I did not filter outliers and would be less if I filtered more outliers using a lower factor in the IQR function."
   ]
  },
  {
   "cell_type": "code",
   "execution_count": null,
   "metadata": {
    "colab": {
     "base_uri": "https://localhost:8080/"
    },
    "id": "FAVHlo5rmxS1",
    "outputId": "2db4eb3c-1d52-4b6a-81d3-ca5587e593eb"
   },
   "outputs": [
    {
     "name": "stdout",
     "output_type": "stream",
     "text": [
      "Observations in training: 12779389\n",
      "Observations in test: 5481632\n"
     ]
    }
   ],
   "source": [
    "# Split the data into training and test sets (30% held out for testing), seed 123 for reproducibility\n",
    "training, test = final_df.randomSplit([0.7, 0.3], 123)\n",
    "print(f\"Observations in training: {training.count()}\")\n",
    "print(f\"Observations in test: {test.count()}\")"
   ]
  },
  {
   "cell_type": "markdown",
   "metadata": {
    "id": "OglT3fTqeT23"
   },
   "source": [
    "## 4. Linear Regression with Elastic Net Regularization\n",
    "\n",
    "Linear Regression is a machine learning algorithm designed to minimize the squared errors of the residuals in order to fit a linear relationship. The parameters: elasticNetParam and regParam can be set to support Lasso (L1), Ridge (L2), and Elastic Net regularization (L1 + L2).\n",
    "\n",
    "$$ fare = \\beta_0 + \\beta_1*tripseconds + \\beta_2*tripmiles $$\n",
    "\n",
    "The default Linear Regression model utilizes no regularization and is an ordinary least squares model. ElasticNetParam is set between 0 (Ridge L2) and 1 (Lasso L1). L1 (Lasso) regularization adds a penalty term to the loss function proportional to the absolute value of the coefficients. L1 effectively drives some coefficients to 0, making it more useful for datasets with irrelevant or redundant features. L2 (Ridge) regularization adds a penalty term to the loss function proportional to the squared values of the coefficients. This forces the coefficients to be more spread out as opposed to L1 which drives them to 0. L2 regularization is useful for reducing the impact of multicollinearity and provides robustness against noise.\n",
    "\n",
    "RegParam controls the amount of regularization applied to the model. Smaller values mean closer fits (possible overfitting) whereas larger values prevent overfitting by discouraging larger coefficients.\n",
    "\n",
    "First, let us check the results of a linear regression with no elastic net regularization."
   ]
  },
  {
   "cell_type": "code",
   "execution_count": null,
   "metadata": {
    "id": "Sn4ObvqPyPSV"
   },
   "outputs": [],
   "source": [
    "from pyspark.ml.regression import LinearRegression, DecisionTreeRegressor, RandomForestRegressor, GBTRegressor\n",
    "from pyspark.ml.evaluation import RegressionEvaluator\n",
    "from pyspark.ml.tuning import CrossValidator, ParamGridBuilder"
   ]
  },
  {
   "cell_type": "code",
   "execution_count": null,
   "metadata": {
    "colab": {
     "base_uri": "https://localhost:8080/"
    },
    "id": "O0uDzCzLs6Gx",
    "outputId": "76ac5f5a-ef13-4d17-fcc9-c167783f35d0"
   },
   "outputs": [
    {
     "name": "stdout",
     "output_type": "stream",
     "text": [
      "RMSE: 5.63991361427755\n",
      "R2:   0.800085599105497\n"
     ]
    }
   ],
   "source": [
    "# Initialize LinearRegression object with no elastic net regularization\n",
    "lr = LinearRegression()\n",
    "# Fit LR model on training data\n",
    "lr_model = lr.fit(training)\n",
    "# Generate predictions on test data\n",
    "prediction_lr = lr_model.transform(test)\n",
    "\n",
    "# default regression evaluator is rmse\n",
    "evaluatorRMSE = RegressionEvaluator()\n",
    "evaluatorR2 = RegressionEvaluator(metricName=\"r2\")\n",
    "\n",
    "print(f\"RMSE: {evaluatorRMSE.evaluate(prediction_lr)}\")\n",
    "print(f\"R2:   {evaluatorR2.evaluate(prediction_lr)}\")"
   ]
  },
  {
   "cell_type": "markdown",
   "metadata": {
    "id": "jo1qu6aZr2tn"
   },
   "source": [
    "I obtain a RMSE of 5.64 and a R2 value of 0.80 which is a great score. Next, I will tune the two hyperparameters using a sample of 10% of the final data to save computation time. I also check correlations."
   ]
  },
  {
   "cell_type": "code",
   "execution_count": null,
   "metadata": {
    "colab": {
     "base_uri": "https://localhost:8080/"
    },
    "id": "mx4oetpEQgz2",
    "outputId": "2fc07fec-721e-49ce-9eee-6da98f4b89b3"
   },
   "outputs": [
    {
     "data": {
      "text/plain": [
       "0.6076890688467939"
      ]
     },
     "execution_count": 41,
     "metadata": {},
     "output_type": "execute_result"
    }
   ],
   "source": [
    "# Check correlation of features\n",
    "training.stat.corr('trip_seconds', 'trip_miles')"
   ]
  },
  {
   "cell_type": "code",
   "execution_count": null,
   "metadata": {
    "colab": {
     "base_uri": "https://localhost:8080/"
    },
    "id": "7gIp8evE9Ykx",
    "outputId": "abffb3df-48d5-43bc-b03a-fd450f2847e6"
   },
   "outputs": [
    {
     "name": "stdout",
     "output_type": "stream",
     "text": [
      "The sampled dataset contains 1278659 samples.\n"
     ]
    }
   ],
   "source": [
    "# Use 10% of training set to tune the LR model\n",
    "sample = training.select(\"*\").sample(False, 0.10, seed=123)\n",
    "print(\"The sampled dataset contains {} samples.\".format(sample.count()))"
   ]
  },
  {
   "cell_type": "code",
   "execution_count": null,
   "metadata": {
    "colab": {
     "base_uri": "https://localhost:8080/"
    },
    "id": "sn9DJ0uTpnCB",
    "outputId": "056a055f-2987-48ba-dbcd-931fd4fc5f45"
   },
   "outputs": [
    {
     "name": "stdout",
     "output_type": "stream",
     "text": [
      "Best regParam: 0.1\n",
      "Best elasticNetParam: 0.0\n"
     ]
    }
   ],
   "source": [
    "# Set up a grid to tune regParam and elasticNetParam\n",
    "paramGridLR = ParamGridBuilder().addGrid(lr.regParam, [0.1, 0.3, 0.5, 0.75, 1]).addGrid(lr.elasticNetParam,[0.0, 0.25, 0.5, 0.75, 1]).build()\n",
    "# Choose best hyperparameters based on RMSE, using sample set\n",
    "cv_lr = CrossValidator(estimator=lr, estimatorParamMaps=paramGridLR, evaluator=evaluatorRMSE)\n",
    "cv_lr_model = cv_lr.fit(sample)\n",
    "best_lr_model = cv_lr_model.bestModel\n",
    "\n",
    "# Extract and print the best hyperparameters\n",
    "best_reg_param = best_lr_model._java_obj.getRegParam()\n",
    "best_elasticnet_param = best_lr_model._java_obj.getElasticNetParam()\n",
    "\n",
    "print(f\"Best regParam: {best_reg_param}\")\n",
    "print(f\"Best elasticNetParam: {best_elasticnet_param}\")"
   ]
  },
  {
   "cell_type": "code",
   "execution_count": null,
   "metadata": {
    "colab": {
     "base_uri": "https://localhost:8080/"
    },
    "id": "qkXBkbPnI3Mq",
    "outputId": "3938d4bc-bfa3-4f2b-c9cd-ab10e341f21e"
   },
   "outputs": [
    {
     "name": "stdout",
     "output_type": "stream",
     "text": [
      "RMSE: 5.639573726865513\n",
      "R2:   0.8001096939216779\n"
     ]
    }
   ],
   "source": [
    "# Generate a linear regression object - elastic net model\n",
    "lr_tune = LinearRegression(regParam=best_reg_param, elasticNetParam=best_elasticnet_param)\n",
    "# Fit model on training data\n",
    "lr_tune_model = lr_tune.fit(training)\n",
    "# Forecast fare using test data\n",
    "prediction_lr_tune = lr_tune_model.transform(test)\n",
    "\n",
    "rmse_lr = evaluatorRMSE.evaluate(prediction_lr_tune)\n",
    "r2_lr = evaluatorR2.evaluate(prediction_lr_tune)\n",
    "\n",
    "print(f\"RMSE: {rmse_lr}\")\n",
    "print(f\"R2:   {r2_lr}\")"
   ]
  },
  {
   "cell_type": "markdown",
   "metadata": {
    "id": "1l5lRJIW0ZKz"
   },
   "source": [
    "I obtained very slightly better RMSE and R2 after tuning. Best elasticNetParam of 0.0 suggests multicollinearity, which the correlation also suggests."
   ]
  },
  {
   "cell_type": "code",
   "execution_count": null,
   "metadata": {
    "colab": {
     "base_uri": "https://localhost:8080/"
    },
    "id": "1oZHWB33BO5k",
    "outputId": "632f0d86-ab71-43eb-fb6d-f3f31f022d22"
   },
   "outputs": [
    {
     "data": {
      "text/plain": [
       "0.829519583454541"
      ]
     },
     "execution_count": 46,
     "metadata": {},
     "output_type": "execute_result"
    }
   ],
   "source": [
    "# Check correlation of features with label\n",
    "training.stat.corr('trip_seconds', 'label')"
   ]
  },
  {
   "cell_type": "code",
   "execution_count": null,
   "metadata": {
    "colab": {
     "base_uri": "https://localhost:8080/"
    },
    "id": "hRPrkSK_Cvkc",
    "outputId": "2a24f747-a81b-4e54-9b60-24aa49128476"
   },
   "outputs": [
    {
     "data": {
      "text/plain": [
       "0.7722503599077761"
      ]
     },
     "execution_count": 47,
     "metadata": {},
     "output_type": "execute_result"
    }
   ],
   "source": [
    "training.stat.corr('label', 'trip_miles')"
   ]
  },
  {
   "cell_type": "markdown",
   "metadata": {
    "id": "eTc3-DGfeUT6"
   },
   "source": [
    "## 5. Decision Tree Model\n",
    "\n",
    "Decision trees consist of three nodes: root, interior, and leaf. The root node is the initial node representing the entire sample, which will get split into further nodes. Interior nodes represent the features and rules are established to decide how the nodes branch. Finally, the leaf nodes represent the outcome based on established rules from the interior nodes.\n",
    "\n",
    "Decision trees are useful because they are easy to understand, can be used for regression or classification, do not require a linear relationship, and have almost no hyperparameters to tune."
   ]
  },
  {
   "cell_type": "code",
   "execution_count": null,
   "metadata": {
    "colab": {
     "base_uri": "https://localhost:8080/"
    },
    "id": "aHRpV7nM0zZr",
    "outputId": "2cbbdac3-ff33-4439-eda8-383da903bb56"
   },
   "outputs": [
    {
     "name": "stdout",
     "output_type": "stream",
     "text": [
      "RMSE: 4.248691693634003\n",
      "R2:   0.886548664897369\n"
     ]
    }
   ],
   "source": [
    "# Initialize DecisionTreeRegressor object, seed set for reproducibility\n",
    "dt = DecisionTreeRegressor(seed=123)\n",
    "# Fit LR model on training data\n",
    "dt_model = dt.fit(training)\n",
    "# Generate predictions on test data\n",
    "prediction_dt = dt_model.transform(test)\n",
    "\n",
    "rmse_dt = evaluatorRMSE.evaluate(prediction_dt)\n",
    "r2_dt = evaluatorR2.evaluate(prediction_dt)\n",
    "\n",
    "print(f\"RMSE: {rmse_dt}\")\n",
    "print(f\"R2:   {r2_dt}\")"
   ]
  },
  {
   "cell_type": "markdown",
   "metadata": {
    "id": "ONN3gTHaUtZX"
   },
   "source": [
    "In order to view the DT, I followed steps from: https://www.linkedin.com/pulse/visualizing-decisiontree-dtree-model-pyspark-ankit-tanmay/ in order to turn output of toDebugString into a visual."
   ]
  },
  {
   "cell_type": "code",
   "execution_count": null,
   "metadata": {
    "id": "WJmnrfLrLjpU"
   },
   "outputs": [],
   "source": [
    "# User defined functions taken directly from link above\n",
    "def parse_debug_string_lines(lines):\n",
    "    block = []\n",
    "    while lines:\n",
    "        if lines[0].startswith('If'):\n",
    "            bl = ' '.join(lines.pop(0).split()[1:]).replace('(', '').replace(')', '')\n",
    "            block.append({'name': bl, 'children': parse_debug_string_lines(lines)})\n",
    "\n",
    "\n",
    "            if lines[0].startswith('Else'):\n",
    "                be = ' '.join(lines.pop(0).split()[1:]).replace('(', '').replace(')', '')\n",
    "                block.append({'name': be, 'children': parse_debug_string_lines(lines)})\n",
    "        elif not lines[0].startswith(('If', 'Else')):\n",
    "            block2 = lines.pop(0)\n",
    "            block.append({'name': block2})\n",
    "        else:\n",
    "            break\n",
    "\n",
    "    return block\n",
    "\n",
    "\n",
    "def debug_str_to_json(debug_string):\n",
    "    data = []\n",
    "    for line in debug_string.splitlines():\n",
    "        if line.strip():\n",
    "            line = line.strip()\n",
    "            data.append(line)\n",
    "        else:\n",
    "            break\n",
    "        if not line: break\n",
    "\n",
    "    json = {'name': 'Root', 'children': parse_debug_string_lines(data[1:])}\n",
    "    return json"
   ]
  },
  {
   "cell_type": "code",
   "execution_count": null,
   "metadata": {
    "colab": {
     "base_uri": "https://localhost:8080/"
    },
    "id": "gX2BjB9QxoJS",
    "outputId": "7f819bbc-080b-4e5f-c791-8dd73c4dbc95"
   },
   "outputs": [
    {
     "name": "stdout",
     "output_type": "stream",
     "text": [
      "{\n",
      " \"name\": \"Root\",\n",
      " \"children\": [\n",
      "  {\n",
      "   \"name\": \"feature 0 <= 1319.5\",\n",
      "   \"children\": [\n",
      "    {\n",
      "     \"name\": \"feature 1 <= 4.58\",\n",
      "     \"children\": [\n",
      "      {\n",
      "       \"name\": \"feature 0 <= 646.5\",\n",
      "       \"children\": [\n",
      "        {\n",
      "         \"name\": \"feature 0 <= 418.5\",\n",
      "         \"children\": [\n",
      "          {\n",
      "           \"name\": \"feature 0 <= 297.0\",\n",
      "           \"children\": [\n",
      "            {\n",
      "             \"name\": \"Predict: 4.981792653273004\"\n",
      "            }\n",
      "           ]\n",
      "          },\n",
      "          {\n",
      "           \"name\": \"feature 0 > 297.0\",\n",
      "           \"children\": [\n",
      "            {\n",
      "             \"name\": \"Predict: 6.1650151190180305\"\n",
      "            }\n",
      "           ]\n",
      "          }\n",
      "         ]\n",
      "        },\n",
      "        {\n",
      "         \"name\": \"feature 0 > 418.5\",\n",
      "         \"children\": [\n",
      "          {\n",
      "           \"name\": \"feature 1 <= 2.3049999999999997\",\n",
      "           \"children\": [\n",
      "            {\n",
      "             \"name\": \"Predict: 7.564816653725809\"\n",
      "            }\n",
      "           ]\n",
      "          },\n",
      "          {\n",
      "           \"name\": \"feature 1 > 2.3049999999999997\",\n",
      "           \"children\": [\n",
      "            {\n",
      "             \"name\": \"Predict: 10.764566960995417\"\n",
      "            }\n",
      "           ]\n",
      "          }\n",
      "         ]\n",
      "        }\n",
      "       ]\n",
      "      },\n",
      "      {\n",
      "       \"name\": \"feature 0 > 646.5\",\n",
      "       \"children\": [\n",
      "        {\n",
      "         \"name\": \"feature 0 <= 947.5\",\n",
      "         \"children\": [\n",
      "          {\n",
      "           \"name\": \"feature 1 <= 3.1100000000000003\",\n",
      "           \"children\": [\n",
      "            {\n",
      "             \"name\": \"Predict: 10.0714703161764\"\n",
      "            }\n",
      "           ]\n",
      "          },\n",
      "          {\n",
      "           \"name\": \"feature 1 > 3.1100000000000003\",\n",
      "           \"children\": [\n",
      "            {\n",
      "             \"name\": \"Predict: 12.778709071163348\"\n",
      "            }\n",
      "           ]\n",
      "          }\n",
      "         ]\n",
      "        },\n",
      "        {\n",
      "         \"name\": \"feature 0 > 947.5\",\n",
      "         \"children\": [\n",
      "          {\n",
      "           \"name\": \"feature 1 <= 1.105\",\n",
      "           \"children\": [\n",
      "            {\n",
      "             \"name\": \"Predict: 16.900453070934258\"\n",
      "            }\n",
      "           ]\n",
      "          },\n",
      "          {\n",
      "           \"name\": \"feature 1 > 1.105\",\n",
      "           \"children\": [\n",
      "            {\n",
      "             \"name\": \"Predict: 12.402799797829326\"\n",
      "            }\n",
      "           ]\n",
      "          }\n",
      "         ]\n",
      "        }\n",
      "       ]\n",
      "      }\n",
      "     ]\n",
      "    },\n",
      "    {\n",
      "     \"name\": \"feature 1 > 4.58\",\n",
      "     \"children\": [\n",
      "      {\n",
      "       \"name\": \"feature 1 <= 8.05\",\n",
      "       \"children\": [\n",
      "        {\n",
      "         \"name\": \"feature 1 <= 5.875\",\n",
      "         \"children\": [\n",
      "          {\n",
      "           \"name\": \"feature 0 <= 418.5\",\n",
      "           \"children\": [\n",
      "            {\n",
      "             \"name\": \"Predict: 9.242571569595261\"\n",
      "            }\n",
      "           ]\n",
      "          },\n",
      "          {\n",
      "           \"name\": \"feature 0 > 418.5\",\n",
      "           \"children\": [\n",
      "            {\n",
      "             \"name\": \"Predict: 15.933107000082884\"\n",
      "            }\n",
      "           ]\n",
      "          }\n",
      "         ]\n",
      "        },\n",
      "        {\n",
      "         \"name\": \"feature 1 > 5.875\",\n",
      "         \"children\": [\n",
      "          {\n",
      "           \"name\": \"feature 0 <= 477.5\",\n",
      "           \"children\": [\n",
      "            {\n",
      "             \"name\": \"Predict: 9.35624446993282\"\n",
      "            }\n",
      "           ]\n",
      "          },\n",
      "          {\n",
      "           \"name\": \"feature 0 > 477.5\",\n",
      "           \"children\": [\n",
      "            {\n",
      "             \"name\": \"Predict: 19.45009918637466\"\n",
      "            }\n",
      "           ]\n",
      "          }\n",
      "         ]\n",
      "        }\n",
      "       ]\n",
      "      },\n",
      "      {\n",
      "       \"name\": \"feature 1 > 8.05\",\n",
      "       \"children\": [\n",
      "        {\n",
      "         \"name\": \"feature 0 <= 947.5\",\n",
      "         \"children\": [\n",
      "          {\n",
      "           \"name\": \"feature 0 <= 772.5\",\n",
      "           \"children\": [\n",
      "            {\n",
      "             \"name\": \"Predict: 15.226831956608276\"\n",
      "            }\n",
      "           ]\n",
      "          },\n",
      "          {\n",
      "           \"name\": \"feature 0 > 772.5\",\n",
      "           \"children\": [\n",
      "            {\n",
      "             \"name\": \"Predict: 22.70213316387192\"\n",
      "            }\n",
      "           ]\n",
      "          }\n",
      "         ]\n",
      "        },\n",
      "        {\n",
      "         \"name\": \"feature 0 > 947.5\",\n",
      "         \"children\": [\n",
      "          {\n",
      "           \"name\": \"feature 1 <= 12.55\",\n",
      "           \"children\": [\n",
      "            {\n",
      "             \"name\": \"Predict: 26.230276610473556\"\n",
      "            }\n",
      "           ]\n",
      "          },\n",
      "          {\n",
      "           \"name\": \"feature 1 > 12.55\",\n",
      "           \"children\": [\n",
      "            {\n",
      "             \"name\": \"Predict: 37.35643868524075\"\n",
      "            }\n",
      "           ]\n",
      "          }\n",
      "         ]\n",
      "        }\n",
      "       ]\n",
      "      }\n",
      "     ]\n",
      "    }\n",
      "   ]\n",
      "  },\n",
      "  {\n",
      "   \"name\": \"feature 0 > 1319.5\",\n",
      "   \"children\": [\n",
      "    {\n",
      "     \"name\": \"feature 1 <= 12.55\",\n",
      "     \"children\": [\n",
      "      {\n",
      "       \"name\": \"feature 0 <= 2010.0\",\n",
      "       \"children\": [\n",
      "        {\n",
      "         \"name\": \"feature 1 <= 1.395\",\n",
      "         \"children\": [\n",
      "          {\n",
      "           \"name\": \"feature 1 <= 0.795\",\n",
      "           \"children\": [\n",
      "            {\n",
      "             \"name\": \"Predict: 25.647979926664163\"\n",
      "            }\n",
      "           ]\n",
      "          },\n",
      "          {\n",
      "           \"name\": \"feature 1 > 0.795\",\n",
      "           \"children\": [\n",
      "            {\n",
      "             \"name\": \"Predict: 38.1947554971223\"\n",
      "            }\n",
      "           ]\n",
      "          }\n",
      "         ]\n",
      "        },\n",
      "        {\n",
      "         \"name\": \"feature 1 > 1.395\",\n",
      "         \"children\": [\n",
      "          {\n",
      "           \"name\": \"feature 1 <= 8.05\",\n",
      "           \"children\": [\n",
      "            {\n",
      "             \"name\": \"Predict: 17.783371013272962\"\n",
      "            }\n",
      "           ]\n",
      "          },\n",
      "          {\n",
      "           \"name\": \"feature 1 > 8.05\",\n",
      "           \"children\": [\n",
      "            {\n",
      "             \"name\": \"Predict: 28.873458299630688\"\n",
      "            }\n",
      "           ]\n",
      "          }\n",
      "         ]\n",
      "        }\n",
      "       ]\n",
      "      },\n",
      "      {\n",
      "       \"name\": \"feature 0 > 2010.0\",\n",
      "       \"children\": [\n",
      "        {\n",
      "         \"name\": \"feature 1 <= 2.715\",\n",
      "         \"children\": [\n",
      "          {\n",
      "           \"name\": \"feature 1 <= 0.995\",\n",
      "           \"children\": [\n",
      "            {\n",
      "             \"name\": \"Predict: 39.08528479574427\"\n",
      "            }\n",
      "           ]\n",
      "          },\n",
      "          {\n",
      "           \"name\": \"feature 1 > 0.995\",\n",
      "           \"children\": [\n",
      "            {\n",
      "             \"name\": \"Predict: 46.18075042973111\"\n",
      "            }\n",
      "           ]\n",
      "          }\n",
      "         ]\n",
      "        },\n",
      "        {\n",
      "         \"name\": \"feature 1 > 2.715\",\n",
      "         \"children\": [\n",
      "          {\n",
      "           \"name\": \"feature 0 <= 3390.0\",\n",
      "           \"children\": [\n",
      "            {\n",
      "             \"name\": \"Predict: 28.57005332071023\"\n",
      "            }\n",
      "           ]\n",
      "          },\n",
      "          {\n",
      "           \"name\": \"feature 0 > 3390.0\",\n",
      "           \"children\": [\n",
      "            {\n",
      "             \"name\": \"Predict: 42.29937240921905\"\n",
      "            }\n",
      "           ]\n",
      "          }\n",
      "         ]\n",
      "        }\n",
      "       ]\n",
      "      }\n",
      "     ]\n",
      "    },\n",
      "    {\n",
      "     \"name\": \"feature 1 > 12.55\",\n",
      "     \"children\": [\n",
      "      {\n",
      "       \"name\": \"feature 1 <= 17.86\",\n",
      "       \"children\": [\n",
      "        {\n",
      "         \"name\": \"feature 1 <= 16.65\",\n",
      "         \"children\": [\n",
      "          {\n",
      "           \"name\": \"feature 0 <= 3390.0\",\n",
      "           \"children\": [\n",
      "            {\n",
      "             \"name\": \"Predict: 37.74505614534649\"\n",
      "            }\n",
      "           ]\n",
      "          },\n",
      "          {\n",
      "           \"name\": \"feature 0 > 3390.0\",\n",
      "           \"children\": [\n",
      "            {\n",
      "             \"name\": \"Predict: 43.96970565519612\"\n",
      "            }\n",
      "           ]\n",
      "          }\n",
      "         ]\n",
      "        },\n",
      "        {\n",
      "         \"name\": \"feature 1 > 16.65\",\n",
      "         \"children\": [\n",
      "          {\n",
      "           \"name\": \"feature 0 <= 3390.0\",\n",
      "           \"children\": [\n",
      "            {\n",
      "             \"name\": \"Predict: 43.807007330980184\"\n",
      "            }\n",
      "           ]\n",
      "          },\n",
      "          {\n",
      "           \"name\": \"feature 0 > 3390.0\",\n",
      "           \"children\": [\n",
      "            {\n",
      "             \"name\": \"Predict: 47.093784234223044\"\n",
      "            }\n",
      "           ]\n",
      "          }\n",
      "         ]\n",
      "        }\n",
      "       ]\n",
      "      },\n",
      "      {\n",
      "       \"name\": \"feature 1 > 17.86\",\n",
      "       \"children\": [\n",
      "        {\n",
      "         \"name\": \"feature 0 <= 3390.0\",\n",
      "         \"children\": [\n",
      "          {\n",
      "           \"name\": \"feature 0 <= 2010.0\",\n",
      "           \"children\": [\n",
      "            {\n",
      "             \"name\": \"Predict: 46.818534110129676\"\n",
      "            }\n",
      "           ]\n",
      "          },\n",
      "          {\n",
      "           \"name\": \"feature 0 > 2010.0\",\n",
      "           \"children\": [\n",
      "            {\n",
      "             \"name\": \"Predict: 51.367142095487075\"\n",
      "            }\n",
      "           ]\n",
      "          }\n",
      "         ]\n",
      "        },\n",
      "        {\n",
      "         \"name\": \"feature 0 > 3390.0\",\n",
      "         \"children\": [\n",
      "          {\n",
      "           \"name\": \"Predict: 59.7927834157621\"\n",
      "          }\n",
      "         ]\n",
      "        }\n",
      "       ]\n",
      "      }\n",
      "     ]\n",
      "    }\n",
      "   ]\n",
      "  }\n",
      " ]\n",
      "}\n"
     ]
    }
   ],
   "source": [
    "# Taken from link above, copy and paste output into site below\n",
    "import json\n",
    "dict_tree_json = debug_str_to_json(dt_model.toDebugString)\n",
    "\n",
    "print(json.dumps(dict_tree_json,indent = 1 ))"
   ]
  },
  {
   "cell_type": "markdown",
   "metadata": {
    "id": "Cjx8BK4BbJmE"
   },
   "source": [
    "Copy and paste output above into https://vanya.jp.net/vtree/ to generate the tree diagram. Was not able to convert to .svg on my computer, so I took screenshots of the tree."
   ]
  },
  {
   "cell_type": "markdown",
   "metadata": {
    "id": "XYIKI_LfeUWq"
   },
   "source": [
    "## 6. Random Forest Model\n",
    "\n",
    "Random forest algorithms combine ensemble learning methods with bootstrapping using decision trees in order to create multiple randomly drawn trees, averaging the results together in order to produce a model that is less prone to overfitting like a simple decision tree model.\n",
    "\n",
    "Ensemble learning is merely the process of averaging the results from multiple models trained on the same data. Ensemble learning works best when the errors from each tree are independent and different. By combining decision trees, random forest models tend to have less bias and less variance.\n",
    "\n",
    "Bootstrapping is the process of randomly sampling subsets of a dataset over a number of iterations with replacement. By default, RandomForestRegressor uses bootstrapping."
   ]
  },
  {
   "cell_type": "code",
   "execution_count": null,
   "metadata": {
    "colab": {
     "base_uri": "https://localhost:8080/"
    },
    "id": "UouIq7m_948t",
    "outputId": "42ccfc66-bc46-4420-f6e7-b02a5f3c4a18"
   },
   "outputs": [
    {
     "name": "stdout",
     "output_type": "stream",
     "text": [
      "RMSE: 4.390782013296298\n",
      "R2:   0.8788333980013383\n"
     ]
    }
   ],
   "source": [
    "# Initialize RandomForestRegressor object\n",
    "rf = RandomForestRegressor(seed=123)\n",
    "# Fit RF model on training data\n",
    "rf_model = rf.fit(training)\n",
    "# Generate predictions on test data\n",
    "prediction_rf = rf_model.transform(test)\n",
    "\n",
    "print(f\"RMSE: {evaluatorRMSE.evaluate(prediction_rf)}\")\n",
    "print(f\"R2:   {evaluatorR2.evaluate(prediction_rf)}\")"
   ]
  },
  {
   "cell_type": "markdown",
   "metadata": {
    "id": "EPh5vkDk1rYO"
   },
   "source": [
    "maxBins = Max number of bins for discretizing continuous features.\n",
    "\n",
    "maxDepth = depth 0 means 1 leaf node; depth 1 means 1 internal node + 2 leaf nodes\n",
    "\n",
    "numTrees = Number of trees to train."
   ]
  },
  {
   "cell_type": "code",
   "execution_count": null,
   "metadata": {
    "colab": {
     "base_uri": "https://localhost:8080/"
    },
    "id": "ShHEriiE-3Nz",
    "outputId": "b1ebd6d4-1afb-4c5e-c3b7-9447ed10e77c"
   },
   "outputs": [
    {
     "name": "stdout",
     "output_type": "stream",
     "text": [
      "Best maxDepth: 9\n",
      "Best maxBins: 48\n",
      "Best numTrees: 30\n"
     ]
    }
   ],
   "source": [
    "# Set up a grid to tune maxDepth (5), maxBins(32), numTrees(20).\n",
    "paramGridRF = ParamGridBuilder().addGrid(rf.maxDepth, [5, 7, 9]).addGrid(rf.maxBins, [32, 48]).addGrid(rf.numTrees, [10,20,30]).build()\n",
    "# Choose best hyperparameters based on RMSE\n",
    "# Default folds for CrossValidator is 3 - generate 3 (training, test) dataset pairs, each of which uses 2/3 of the data for training and 1/3 for testing\n",
    "cv_rf = CrossValidator(estimator=rf, estimatorParamMaps=paramGridRF, evaluator=evaluatorRMSE)\n",
    "cv_rf_model = cv_rf.fit(sample)\n",
    "best_rf_model = cv_rf_model.bestModel\n",
    "\n",
    "# Extract and print the best hyperparameters\n",
    "best_maxdepth = best_rf_model._java_obj.getMaxDepth()\n",
    "best_maxbins = best_rf_model._java_obj.getMaxBins()\n",
    "best_numtrees = best_rf_model._java_obj.getNumTrees()\n",
    "\n",
    "print(f\"Best maxDepth: {best_maxdepth}\")\n",
    "print(f\"Best maxBins: {best_maxbins}\")\n",
    "print(f\"Best numTrees: {best_numtrees}\")"
   ]
  },
  {
   "cell_type": "code",
   "execution_count": null,
   "metadata": {
    "colab": {
     "base_uri": "https://localhost:8080/"
    },
    "id": "jy-9xR-hIwRU",
    "outputId": "072dfa56-2ec5-4bbf-b5a9-885474936f32"
   },
   "outputs": [
    {
     "name": "stdout",
     "output_type": "stream",
     "text": [
      "RMSE: 3.7672511751760913\n",
      "R2:   0.9108033939248941\n"
     ]
    }
   ],
   "source": [
    "# Generate a RF Regressor object with tuned hyperparameters\n",
    "rf_tune = RandomForestRegressor(maxDepth=best_maxdepth, maxBins=best_maxbins, numTrees=best_numtrees, seed=123)\n",
    "# Fit model on training data\n",
    "rf_tune_model = rf_tune.fit(training)\n",
    "# Forecast fare using test data\n",
    "prediction_rf_tune = rf_tune_model.transform(test)\n",
    "\n",
    "rmse_rf = evaluatorRMSE.evaluate(prediction_rf_tune)\n",
    "r2_rf = evaluatorR2.evaluate(prediction_rf_tune)\n",
    "\n",
    "print(f\"RMSE: {rmse_rf}\")\n",
    "print(f\"R2:   {r2_rf}\")"
   ]
  },
  {
   "cell_type": "markdown",
   "metadata": {
    "id": "zaslY95Ufa7P"
   },
   "source": [
    "## 7. Gradient-Boosted Tree\n",
    "\n",
    "Boosting works by improving on the mistakes of the previous learner via the next learner. In this case, the learners are the decision trees and are considered weak learners. All the trees are connected in series and each tree tries to minimize the error (residuals) of the previous tree. The final model aggregates the results of all the weak learners in order to create a strong learning model.\n",
    "\n",
    "GBT models have an additional hyperparameter (stepSize) to control the learning rate of the algorithm. Hypertuning the learning rate is key to building a strong GBT model."
   ]
  },
  {
   "cell_type": "code",
   "execution_count": null,
   "metadata": {
    "id": "AVXlKbptPD-t"
   },
   "outputs": [],
   "source": [
    "# Initialize GBTRegressor object\n",
    "gbt = GBTRegressor(seed=123)\n",
    "# Fit GBT model on training data\n",
    "gbt_model = gbt.fit(training)\n",
    "# Generate predictions on test data\n",
    "prediction_gbt = gbt_model.transform(test)"
   ]
  },
  {
   "cell_type": "code",
   "execution_count": null,
   "metadata": {
    "colab": {
     "base_uri": "https://localhost:8080/"
    },
    "id": "rLOqe7NUNy1u",
    "outputId": "a0cfe97f-7a43-416b-c6ad-7617120a67ae"
   },
   "outputs": [
    {
     "name": "stdout",
     "output_type": "stream",
     "text": [
      "RMSE: 3.876919676242267\n",
      "R2:   0.9055345968943174\n"
     ]
    }
   ],
   "source": [
    "print(f\"RMSE: {evaluatorRMSE.evaluate(prediction_gbt)}\")\n",
    "print(f\"R2:   {evaluatorR2.evaluate(prediction_gbt)}\")"
   ]
  },
  {
   "cell_type": "code",
   "execution_count": null,
   "metadata": {
    "colab": {
     "base_uri": "https://localhost:8080/"
    },
    "id": "8bWhLK2jPD13",
    "outputId": "23e8a752-7d59-4376-cc5c-0153541242a3"
   },
   "outputs": [
    {
     "name": "stdout",
     "output_type": "stream",
     "text": [
      "Best maxDepth: 9\n",
      "Best stepSize: 0.25\n"
     ]
    }
   ],
   "source": [
    "# Set up a grid to tune maxDepth (5), stepSize (0.1).\n",
    "paramGridGBT = ParamGridBuilder().addGrid(gbt.maxDepth, [5, 7, 9]).addGrid(gbt.stepSize, [0.01, 0.1, 0.25, 0.5]).build()\n",
    "# Choose best hyperparameters based on RMSE\n",
    "# Default folds for CrossValidator is 3 - generate 3 (training, test) dataset pairs, each of which uses 2/3 of the data for training and 1/3 for testing\n",
    "cv_gbt= CrossValidator(estimator=gbt, estimatorParamMaps=paramGridGBT, evaluator=evaluatorRMSE)\n",
    "cv_gbt_model = cv_gbt.fit(sample)\n",
    "best_gbt_model = cv_gbt_model.bestModel\n",
    "\n",
    "# Extract and print the best hyperparameters\n",
    "best_gbtdepth = best_gbt_model._java_obj.getMaxDepth()\n",
    "best_stepsize = best_gbt_model._java_obj.getStepSize()\n",
    "\n",
    "print(f\"Best maxDepth: {best_gbtdepth}\")\n",
    "print(f\"Best stepSize: {best_stepsize}\")"
   ]
  },
  {
   "cell_type": "code",
   "execution_count": null,
   "metadata": {
    "colab": {
     "base_uri": "https://localhost:8080/"
    },
    "id": "NOCsEwfuR8_R",
    "outputId": "be02e81b-ab41-4c0a-afd7-b8261037f295"
   },
   "outputs": [
    {
     "name": "stdout",
     "output_type": "stream",
     "text": [
      "RMSE: 3.7685921603765573\n",
      "R2:   0.9107398820370733\n"
     ]
    }
   ],
   "source": [
    "# Generate a GBT Regressor object with tuned hyperparameters, used values because I had to rerun code\n",
    "gbt_tune = GBTRegressor(maxDepth=9, stepSize=0.25, seed=123)\n",
    "# Fit model on training data\n",
    "gbt_tune_model = gbt_tune.fit(training)\n",
    "# Forecast fare using test data\n",
    "prediction_gbt_tune = gbt_tune_model.transform(test)\n",
    "\n",
    "rmse_gbt = evaluatorRMSE.evaluate(prediction_gbt_tune)\n",
    "r2_gbt = evaluatorR2.evaluate(prediction_gbt_tune)\n",
    "\n",
    "print(f\"RMSE: {rmse_gbt}\")\n",
    "print(f\"R2:   {r2_gbt}\")"
   ]
  },
  {
   "cell_type": "markdown",
   "metadata": {
    "id": "ATBACR7FgOeB"
   },
   "source": [
    "## 8. Best model?"
   ]
  },
  {
   "cell_type": "code",
   "execution_count": null,
   "metadata": {
    "colab": {
     "base_uri": "https://localhost:8080/",
     "height": 206
    },
    "id": "VMHWmw2_ZSkR",
    "outputId": "4e870c92-17f2-403b-b9d1-f613c69da1af"
   },
   "outputs": [
    {
     "data": {
      "text/html": [
       "\n",
       "  <div id=\"df-5b487c7b-0b69-4176-8da7-5c844ec73030\" class=\"colab-df-container\">\n",
       "    <div>\n",
       "<style scoped>\n",
       "    .dataframe tbody tr th:only-of-type {\n",
       "        vertical-align: middle;\n",
       "    }\n",
       "\n",
       "    .dataframe tbody tr th {\n",
       "        vertical-align: top;\n",
       "    }\n",
       "\n",
       "    .dataframe thead th {\n",
       "        text-align: right;\n",
       "    }\n",
       "</style>\n",
       "<table border=\"1\" class=\"dataframe\">\n",
       "  <thead>\n",
       "    <tr style=\"text-align: right;\">\n",
       "      <th></th>\n",
       "      <th>RMSE</th>\n",
       "      <th>R2</th>\n",
       "    </tr>\n",
       "    <tr>\n",
       "      <th>Model</th>\n",
       "      <th></th>\n",
       "      <th></th>\n",
       "    </tr>\n",
       "  </thead>\n",
       "  <tbody>\n",
       "    <tr>\n",
       "      <th>LR</th>\n",
       "      <td>5.639574</td>\n",
       "      <td>0.800110</td>\n",
       "    </tr>\n",
       "    <tr>\n",
       "      <th>DT</th>\n",
       "      <td>4.248692</td>\n",
       "      <td>0.886549</td>\n",
       "    </tr>\n",
       "    <tr>\n",
       "      <th>RF</th>\n",
       "      <td>3.767251</td>\n",
       "      <td>0.910803</td>\n",
       "    </tr>\n",
       "    <tr>\n",
       "      <th>GBT</th>\n",
       "      <td>3.768592</td>\n",
       "      <td>0.910740</td>\n",
       "    </tr>\n",
       "  </tbody>\n",
       "</table>\n",
       "</div>\n",
       "    <div class=\"colab-df-buttons\">\n",
       "\n",
       "  <div class=\"colab-df-container\">\n",
       "    <button class=\"colab-df-convert\" onclick=\"convertToInteractive('df-5b487c7b-0b69-4176-8da7-5c844ec73030')\"\n",
       "            title=\"Convert this dataframe to an interactive table.\"\n",
       "            style=\"display:none;\">\n",
       "\n",
       "  <svg xmlns=\"http://www.w3.org/2000/svg\" height=\"24px\" viewBox=\"0 -960 960 960\">\n",
       "    <path d=\"M120-120v-720h720v720H120Zm60-500h600v-160H180v160Zm220 220h160v-160H400v160Zm0 220h160v-160H400v160ZM180-400h160v-160H180v160Zm440 0h160v-160H620v160ZM180-180h160v-160H180v160Zm440 0h160v-160H620v160Z\"/>\n",
       "  </svg>\n",
       "    </button>\n",
       "\n",
       "  <style>\n",
       "    .colab-df-container {\n",
       "      display:flex;\n",
       "      gap: 12px;\n",
       "    }\n",
       "\n",
       "    .colab-df-convert {\n",
       "      background-color: #E8F0FE;\n",
       "      border: none;\n",
       "      border-radius: 50%;\n",
       "      cursor: pointer;\n",
       "      display: none;\n",
       "      fill: #1967D2;\n",
       "      height: 32px;\n",
       "      padding: 0 0 0 0;\n",
       "      width: 32px;\n",
       "    }\n",
       "\n",
       "    .colab-df-convert:hover {\n",
       "      background-color: #E2EBFA;\n",
       "      box-shadow: 0px 1px 2px rgba(60, 64, 67, 0.3), 0px 1px 3px 1px rgba(60, 64, 67, 0.15);\n",
       "      fill: #174EA6;\n",
       "    }\n",
       "\n",
       "    .colab-df-buttons div {\n",
       "      margin-bottom: 4px;\n",
       "    }\n",
       "\n",
       "    [theme=dark] .colab-df-convert {\n",
       "      background-color: #3B4455;\n",
       "      fill: #D2E3FC;\n",
       "    }\n",
       "\n",
       "    [theme=dark] .colab-df-convert:hover {\n",
       "      background-color: #434B5C;\n",
       "      box-shadow: 0px 1px 3px 1px rgba(0, 0, 0, 0.15);\n",
       "      filter: drop-shadow(0px 1px 2px rgba(0, 0, 0, 0.3));\n",
       "      fill: #FFFFFF;\n",
       "    }\n",
       "  </style>\n",
       "\n",
       "    <script>\n",
       "      const buttonEl =\n",
       "        document.querySelector('#df-5b487c7b-0b69-4176-8da7-5c844ec73030 button.colab-df-convert');\n",
       "      buttonEl.style.display =\n",
       "        google.colab.kernel.accessAllowed ? 'block' : 'none';\n",
       "\n",
       "      async function convertToInteractive(key) {\n",
       "        const element = document.querySelector('#df-5b487c7b-0b69-4176-8da7-5c844ec73030');\n",
       "        const dataTable =\n",
       "          await google.colab.kernel.invokeFunction('convertToInteractive',\n",
       "                                                    [key], {});\n",
       "        if (!dataTable) return;\n",
       "\n",
       "        const docLinkHtml = 'Like what you see? Visit the ' +\n",
       "          '<a target=\"_blank\" href=https://colab.research.google.com/notebooks/data_table.ipynb>data table notebook</a>'\n",
       "          + ' to learn more about interactive tables.';\n",
       "        element.innerHTML = '';\n",
       "        dataTable['output_type'] = 'display_data';\n",
       "        await google.colab.output.renderOutput(dataTable, element);\n",
       "        const docLink = document.createElement('div');\n",
       "        docLink.innerHTML = docLinkHtml;\n",
       "        element.appendChild(docLink);\n",
       "      }\n",
       "    </script>\n",
       "  </div>\n",
       "\n",
       "\n",
       "<div id=\"df-fdcd4e72-2998-47b3-be9c-fcdf0bcdee72\">\n",
       "  <button class=\"colab-df-quickchart\" onclick=\"quickchart('df-fdcd4e72-2998-47b3-be9c-fcdf0bcdee72')\"\n",
       "            title=\"Suggest charts\"\n",
       "            style=\"display:none;\">\n",
       "\n",
       "<svg xmlns=\"http://www.w3.org/2000/svg\" height=\"24px\"viewBox=\"0 0 24 24\"\n",
       "     width=\"24px\">\n",
       "    <g>\n",
       "        <path d=\"M19 3H5c-1.1 0-2 .9-2 2v14c0 1.1.9 2 2 2h14c1.1 0 2-.9 2-2V5c0-1.1-.9-2-2-2zM9 17H7v-7h2v7zm4 0h-2V7h2v10zm4 0h-2v-4h2v4z\"/>\n",
       "    </g>\n",
       "</svg>\n",
       "  </button>\n",
       "\n",
       "<style>\n",
       "  .colab-df-quickchart {\n",
       "      --bg-color: #E8F0FE;\n",
       "      --fill-color: #1967D2;\n",
       "      --hover-bg-color: #E2EBFA;\n",
       "      --hover-fill-color: #174EA6;\n",
       "      --disabled-fill-color: #AAA;\n",
       "      --disabled-bg-color: #DDD;\n",
       "  }\n",
       "\n",
       "  [theme=dark] .colab-df-quickchart {\n",
       "      --bg-color: #3B4455;\n",
       "      --fill-color: #D2E3FC;\n",
       "      --hover-bg-color: #434B5C;\n",
       "      --hover-fill-color: #FFFFFF;\n",
       "      --disabled-bg-color: #3B4455;\n",
       "      --disabled-fill-color: #666;\n",
       "  }\n",
       "\n",
       "  .colab-df-quickchart {\n",
       "    background-color: var(--bg-color);\n",
       "    border: none;\n",
       "    border-radius: 50%;\n",
       "    cursor: pointer;\n",
       "    display: none;\n",
       "    fill: var(--fill-color);\n",
       "    height: 32px;\n",
       "    padding: 0;\n",
       "    width: 32px;\n",
       "  }\n",
       "\n",
       "  .colab-df-quickchart:hover {\n",
       "    background-color: var(--hover-bg-color);\n",
       "    box-shadow: 0 1px 2px rgba(60, 64, 67, 0.3), 0 1px 3px 1px rgba(60, 64, 67, 0.15);\n",
       "    fill: var(--button-hover-fill-color);\n",
       "  }\n",
       "\n",
       "  .colab-df-quickchart-complete:disabled,\n",
       "  .colab-df-quickchart-complete:disabled:hover {\n",
       "    background-color: var(--disabled-bg-color);\n",
       "    fill: var(--disabled-fill-color);\n",
       "    box-shadow: none;\n",
       "  }\n",
       "\n",
       "  .colab-df-spinner {\n",
       "    border: 2px solid var(--fill-color);\n",
       "    border-color: transparent;\n",
       "    border-bottom-color: var(--fill-color);\n",
       "    animation:\n",
       "      spin 1s steps(1) infinite;\n",
       "  }\n",
       "\n",
       "  @keyframes spin {\n",
       "    0% {\n",
       "      border-color: transparent;\n",
       "      border-bottom-color: var(--fill-color);\n",
       "      border-left-color: var(--fill-color);\n",
       "    }\n",
       "    20% {\n",
       "      border-color: transparent;\n",
       "      border-left-color: var(--fill-color);\n",
       "      border-top-color: var(--fill-color);\n",
       "    }\n",
       "    30% {\n",
       "      border-color: transparent;\n",
       "      border-left-color: var(--fill-color);\n",
       "      border-top-color: var(--fill-color);\n",
       "      border-right-color: var(--fill-color);\n",
       "    }\n",
       "    40% {\n",
       "      border-color: transparent;\n",
       "      border-right-color: var(--fill-color);\n",
       "      border-top-color: var(--fill-color);\n",
       "    }\n",
       "    60% {\n",
       "      border-color: transparent;\n",
       "      border-right-color: var(--fill-color);\n",
       "    }\n",
       "    80% {\n",
       "      border-color: transparent;\n",
       "      border-right-color: var(--fill-color);\n",
       "      border-bottom-color: var(--fill-color);\n",
       "    }\n",
       "    90% {\n",
       "      border-color: transparent;\n",
       "      border-bottom-color: var(--fill-color);\n",
       "    }\n",
       "  }\n",
       "</style>\n",
       "\n",
       "  <script>\n",
       "    async function quickchart(key) {\n",
       "      const quickchartButtonEl =\n",
       "        document.querySelector('#' + key + ' button');\n",
       "      quickchartButtonEl.disabled = true;  // To prevent multiple clicks.\n",
       "      quickchartButtonEl.classList.add('colab-df-spinner');\n",
       "      try {\n",
       "        const charts = await google.colab.kernel.invokeFunction(\n",
       "            'suggestCharts', [key], {});\n",
       "      } catch (error) {\n",
       "        console.error('Error during call to suggestCharts:', error);\n",
       "      }\n",
       "      quickchartButtonEl.classList.remove('colab-df-spinner');\n",
       "      quickchartButtonEl.classList.add('colab-df-quickchart-complete');\n",
       "    }\n",
       "    (() => {\n",
       "      let quickchartButtonEl =\n",
       "        document.querySelector('#df-fdcd4e72-2998-47b3-be9c-fcdf0bcdee72 button');\n",
       "      quickchartButtonEl.style.display =\n",
       "        google.colab.kernel.accessAllowed ? 'block' : 'none';\n",
       "    })();\n",
       "  </script>\n",
       "</div>\n",
       "\n",
       "    </div>\n",
       "  </div>\n"
      ],
      "text/plain": [
       "           RMSE        R2\n",
       "Model                    \n",
       "LR     5.639574  0.800110\n",
       "DT     4.248692  0.886549\n",
       "RF     3.767251  0.910803\n",
       "GBT    3.768592  0.910740"
      ]
     },
     "execution_count": 60,
     "metadata": {},
     "output_type": "execute_result"
    }
   ],
   "source": [
    "# Output pandas df of all model RMSE and R2\n",
    "metric = spark.createDataFrame([(\"LR\", rmse_lr, r2_lr), (\"DT\", rmse_dt, r2_dt),\n",
    " (\"RF\", rmse_rf, r2_rf), (\"GBT\", rmse_gbt, r2_gbt)], [\"Model\", \"RMSE\", \"R2\"])\n",
    "metric.toPandas().set_index(\"Model\")"
   ]
  },
  {
   "cell_type": "markdown",
   "metadata": {
    "id": "5Eo_iyKaSTmj"
   },
   "source": [
    "From the results, the tuned RF model has the lowest RMSE and highest R2 (closest to 1). The difference between GBT and RF performance is minimal, and the DT model is not too far behind either."
   ]
  },
  {
   "cell_type": "markdown",
   "metadata": {
    "id": "oergyYHNgbVd"
   },
   "source": [
    "## 9. K-Means Clustering\n",
    "\n",
    "K-means clustering differs from the previous 4 models because it is an unsupervised machine learning algorithm. While we do have target data (fare), clustering divides our data into groups/clusters based on their features without regard for the target label. Note that we must specify K number of clusters. The algorithm works by:\n",
    "\n",
    "1. Randomly initialize K centroids (mean clusters)\n",
    "2. Categorize each data point to its closest centroid, updating the centroid's location as the average of all points in the cluster.\n",
    "3. Iterate until all data points have been assigned and all centroid locations have been updated.\n",
    "\n",
    "Specifying the number of clusters is crucial and can be done by evaluating Silhouette coefficient. This coefficient contrasts the average distance to points in the same cluster with points in other clusters. A high silhouette coefficient equates to a better clustering."
   ]
  },
  {
   "cell_type": "code",
   "execution_count": null,
   "metadata": {
    "id": "moboYZsr12Dl"
   },
   "outputs": [],
   "source": [
    "from pyspark.ml.feature import StandardScaler\n",
    "\n",
    "assembler2 = VectorAssembler(inputCols=[\"trip_seconds\", \"trip_miles\", \"label\"], outputCol=\"features\")\n",
    "\n",
    "# Drop features vector column\n",
    "training2 = training.drop('features')\n",
    "test2 = training.drop('features')\n",
    "# Create new features column with label\n",
    "temp1 = assembler2.transform(training2)\n",
    "temp2 = assembler2.transform(test2)\n",
    "\n",
    "# Scale data for Kmeans which has no standarization hyperparameter (withMean = False)\n",
    "scaler = StandardScaler(inputCol=\"features\", outputCol=\"scaled_features\")\n",
    "scaler_model = scaler.fit(temp1)\n",
    "\n",
    "scaled_training = scaler_model.transform(temp1)\n",
    "scaled_test = scaler_model.transform(temp2)\n",
    "\n",
    "# Use only sample of 10% of obs to save runtime\n",
    "ss_training = scaled_training.select(\"*\").sample(False, 0.10, seed=123)\n",
    "ss_test = scaled_test.select(\"*\").sample(False, 0.10, seed=123)"
   ]
  },
  {
   "cell_type": "code",
   "execution_count": null,
   "metadata": {
    "colab": {
     "base_uri": "https://localhost:8080/"
    },
    "id": "E8QnqEH0SWD-",
    "outputId": "9263212d-b918-4514-9e89-6fc025353d6f"
   },
   "outputs": [
    {
     "data": {
      "text/plain": [
       "[0.8118268076168498, 0.7737291182630434, 0.530518096572339, 0.5175645223946633]"
      ]
     },
     "execution_count": 14,
     "metadata": {},
     "output_type": "execute_result"
    }
   ],
   "source": [
    "from pyspark.ml.clustering import KMeans\n",
    "from pyspark.ml.evaluation import ClusteringEvaluator\n",
    "\n",
    "Silhvalues = []\n",
    "# Evaluate clustering by computing Silhouette score\n",
    "cluster = ClusteringEvaluator()\n",
    "\n",
    "# Obtain best K\n",
    "for k in range(2, 6):\n",
    "  kmeans = KMeans(featuresCol=\"scaled_features\").setK(k).setSeed(123)\n",
    "  model = kmeans.fit(ss_training)\n",
    "\n",
    "  # Make predictions\n",
    "  predictions = model.transform(ss_test)\n",
    "  silhouette = cluster.evaluate(predictions)\n",
    "  Silhvalues.append(silhouette)\n",
    "Silhvalues"
   ]
  },
  {
   "cell_type": "code",
   "execution_count": null,
   "metadata": {
    "colab": {
     "base_uri": "https://localhost:8080/"
    },
    "id": "bOZBHIHJcm3d",
    "outputId": "8b7b08e5-9b33-492f-aec9-6410cd78d93e"
   },
   "outputs": [
    {
     "name": "stdout",
     "output_type": "stream",
     "text": [
      "Best K: 2\n"
     ]
    }
   ],
   "source": [
    "# Find best K\n",
    "bestk = 2 + np.argmax(Silhvalues)\n",
    "print(f\"Best K: {bestk}\")"
   ]
  },
  {
   "cell_type": "markdown",
   "metadata": {
    "id": "y6vj7Fa8DBhh"
   },
   "source": [
    "While the best K is 2, I choose to use 3 instead as the silhouette score is very close and having only 2 clusters may not tell us much."
   ]
  },
  {
   "cell_type": "code",
   "execution_count": null,
   "metadata": {
    "colab": {
     "base_uri": "https://localhost:8080/"
    },
    "id": "BtzQ4KrhdVDU",
    "outputId": "335add5f-fb55-4e27-8edc-574bf856c85f"
   },
   "outputs": [
    {
     "name": "stdout",
     "output_type": "stream",
     "text": [
      "Cluster Centers: \n",
      "[2.50709173 2.21765365 3.02207069]\n",
      "[0.74704776 0.28053634 0.71900042]\n",
      "[5.04256556 3.78621174 4.33135555]\n"
     ]
    }
   ],
   "source": [
    "# Fit K-means using bestk\n",
    "kmeans = KMeans(featuresCol=\"scaled_features\").setK(3).setSeed(123)\n",
    "model = kmeans.fit(ss_training)\n",
    "predictions = model.transform(ss_test)\n",
    "\n",
    "# 3 columns representing the average of the 3 features for each cluster\n",
    "centers = model.clusterCenters()\n",
    "print(\"Cluster Centers: \")\n",
    "for center in centers:\n",
    "    print(center)"
   ]
  },
  {
   "cell_type": "code",
   "execution_count": null,
   "metadata": {
    "id": "blXenxbRfphH"
   },
   "outputs": [],
   "source": [
    "# Plot the Clusters using pd df\n",
    "from matplotlib.pyplot import figure\n",
    "pandas_df = predictions.toPandas()"
   ]
  },
  {
   "cell_type": "code",
   "execution_count": null,
   "metadata": {
    "colab": {
     "base_uri": "https://localhost:8080/",
     "height": 1000
    },
    "id": "odcap_zePSMP",
    "outputId": "30e9b0db-14b6-4105-8473-3574a59a85f0"
   },
   "outputs": [
    {
     "data": {
      "text/plain": [
       "<Figure size 640x480 with 0 Axes>"
      ]
     },
     "metadata": {},
     "output_type": "display_data"
    },
    {
     "data": {
      "image/png": "[encoded data removed]",
      "text/plain": [
       "<Figure size 1200x1200 with 1 Axes>"
      ]
     },
     "metadata": {},
     "output_type": "display_data"
    }
   ],
   "source": [
    "fig = plt.figure()\n",
    "figure(figsize=(12,12))\n",
    "\n",
    "# syntax for 3-D projection\n",
    "ax = plt.axes(projection ='3d')\n",
    "\n",
    "# defining axes\n",
    "z = pandas_df['label']\n",
    "x = pandas_df['trip_seconds']\n",
    "y = pandas_df['trip_miles']\n",
    "c = pandas_df['prediction']\n",
    "ax.scatter(x, y, z, c = c)\n",
    "\n",
    "# plot\n",
    "ax.set_title('K-Means Clustering')\n",
    "plt.show()"
   ]
  },
  {
   "cell_type": "code",
   "execution_count": null,
   "metadata": {
    "colab": {
     "base_uri": "https://localhost:8080/"
    },
    "id": "ilpycYoQ9uZq",
    "outputId": "837f0bc5-2b5f-4fa2-d8ec-d337dec9d810"
   },
   "outputs": [
    {
     "data": {
      "text/plain": [
       "{'seed': 123,\n",
       " 'maxDepth': 9,\n",
       " 'maxBins': 48,\n",
       " 'minInstancesPerNode': 1,\n",
       " 'minInfoGain': 0.0,\n",
       " 'maxMemoryInMB': 256,\n",
       " 'cacheNodeIds': False,\n",
       " 'checkpointInterval': 10,\n",
       " 'impurity': 'variance',\n",
       " 'subsamplingRate': 1.0,\n",
       " 'numTrees': 30,\n",
       " 'featureSubsetStrategy': 'auto',\n",
       " 'leafCol': '',\n",
       " 'minWeightFractionPerNode': 0.0,\n",
       " 'bootstrap': True,\n",
       " 'predictionCol': 'prediction',\n",
       " 'featuresCol': 'features',\n",
       " 'labelCol': 'label'}"
      ]
     },
     "execution_count": 29,
     "metadata": {},
     "output_type": "execute_result"
    }
   ],
   "source": [
    "# View every parameter of the best model, had to rerun code so using set values for rf regressor object\n",
    "rf_tune = RandomForestRegressor(maxDepth=9, maxBins=48, numTrees=30, seed=123)\n",
    "{param[0].name: param[1] for param in rf_tune.extractParamMap().items()}"
   ]
  }
 ],
 "metadata": {
  "colab": {
   "provenance": []
  },
  "kernelspec": {
   "display_name": "Python 3 (ipykernel)",
   "language": "python",
   "name": "python3"
  },
  "language_info": {
   "codemirror_mode": {
    "name": "ipython",
    "version": 3
   },
   "file_extension": ".py",
   "mimetype": "text/x-python",
   "name": "python",
   "nbconvert_exporter": "python",
   "pygments_lexer": "ipython3",
   "version": "3.10.9"
  }
 },
 "nbformat": 4,
 "nbformat_minor": 1
}
